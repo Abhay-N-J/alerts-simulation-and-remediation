{
  "metadata": {
    "kernelspec": {
      "language": "python",
      "display_name": "Python 3",
      "name": "python3"
    },
    "language_info": {
      "name": "python",
      "version": "3.10.13",
      "mimetype": "text/x-python",
      "codemirror_mode": {
        "name": "ipython",
        "version": 3
      },
      "pygments_lexer": "ipython3",
      "nbconvert_exporter": "python",
      "file_extension": ".py"
    },
    "kaggle": {
      "accelerator": "gpu",
      "dataSources": [],
      "dockerImageVersionId": 30699,
      "isInternetEnabled": true,
      "language": "python",
      "sourceType": "notebook",
      "isGpuEnabled": true
    },
    "colab": {
      "name": "ASMR Data Pipeline",
      "provenance": [],
      "include_colab_link": true
    }
  },
  "nbformat_minor": 0,
  "nbformat": 4,
  "cells": [
    {
      "cell_type": "markdown",
      "metadata": {
        "id": "view-in-github",
        "colab_type": "text"
      },
      "source": [
        "<a href=\"https://colab.research.google.com/github/ankush-003/alerts-simulation-and-remediation/blob/main/queryBot/ASMR_Data_Pipeline.ipynb\" target=\"_parent\"><img src=\"https://colab.research.google.com/assets/colab-badge.svg\" alt=\"Open In Colab\"/></a>"
      ]
    },
    {
      "cell_type": "markdown",
      "source": [
        "# **ASMR Data Pipeline**"
      ],
      "metadata": {
        "id": "dQBproDgwpBm"
      }
    },
    {
      "cell_type": "code",
      "source": [
        "%pip install --quiet pymongo[srv] sentence_transformers redis[hiredis] dnspython langchain motor"
      ],
      "metadata": {
        "_uuid": "8f2839f25d086af736a60e9eeb907d3b93b6e0e5",
        "_cell_guid": "b1076dfc-b9ad-4769-8c92-a6c4dae69d19",
        "execution": {
          "iopub.status.busy": "2024-05-06T17:26:31.908689Z",
          "iopub.execute_input": "2024-05-06T17:26:31.90911Z",
          "iopub.status.idle": "2024-05-06T17:27:24.54582Z",
          "shell.execute_reply.started": "2024-05-06T17:26:31.909077Z",
          "shell.execute_reply": "2024-05-06T17:27:24.544834Z"
        },
        "trusted": true,
        "id": "eUeUMBXKBLr2"
      },
      "execution_count": 1,
      "outputs": []
    },
    {
      "cell_type": "markdown",
      "source": [
        "## Setting up envs"
      ],
      "metadata": {
        "id": "ebOEtkS7ylPg"
      }
    },
    {
      "cell_type": "code",
      "source": [
        "import os\n",
        "from google.colab import userdata\n",
        "\n",
        "os.environ[\"MONGO_URI\"] = userdata.get('MONGO_URI')\n",
        "os.environ[\"REDIS_HOST\"] = userdata.get('REDIS_HOST')\n",
        "os.environ[\"REDIS_PWD\"] = userdata.get('REDIS_PASSWORD')"
      ],
      "metadata": {
        "execution": {
          "iopub.status.busy": "2024-05-06T17:45:01.968729Z",
          "iopub.execute_input": "2024-05-06T17:45:01.969115Z",
          "iopub.status.idle": "2024-05-06T17:45:02.083471Z",
          "shell.execute_reply.started": "2024-05-06T17:45:01.969084Z",
          "shell.execute_reply": "2024-05-06T17:45:02.082354Z"
        },
        "trusted": true,
        "id": "rZs1zOF6BLsB"
      },
      "execution_count": 2,
      "outputs": []
    },
    {
      "cell_type": "markdown",
      "source": [
        "## **Pipeline**"
      ],
      "metadata": {
        "id": "j92uavD1zIts"
      }
    },
    {
      "cell_type": "code",
      "source": [
        "from langchain_community.vectorstores import MongoDBAtlasVectorSearch\n",
        "from langchain_community.embeddings import HuggingFaceEmbeddings\n",
        "# from dotenv import load_dotenv\n",
        "import os\n",
        "import pymongo\n",
        "import logging\n",
        "import nest_asyncio\n",
        "from langchain.docstore.document import Document\n",
        "import redis\n",
        "import threading\n",
        "\n",
        "# config\n",
        "nest_asyncio.apply()\n",
        "logging.basicConfig(level = logging.INFO)\n",
        "database = \"AlertSimAndRemediation\"\n",
        "collection = \"alert_embed\"\n",
        "stream_name = \"alerts\"\n",
        "\n",
        "\n",
        "# embedding model\n",
        "embedding_args = {\n",
        "    \"model_name\" : \"BAAI/bge-large-en-v1.5\",\n",
        "    \"model_kwargs\" : {\"device\": \"cpu\"},\n",
        "    \"encode_kwargs\" : {\"normalize_embeddings\": True}\n",
        "}\n",
        "embedding_model = HuggingFaceEmbeddings(**embedding_args)\n",
        "\n",
        "# Mongo Connection\n",
        "connection = pymongo.MongoClient(os.environ[\"MONGO_URI\"])\n",
        "alert_collection = connection[database][collection]\n",
        "\n",
        "# Redis connection\n",
        "r = redis.Redis(host=os.environ['REDIS_HOST'], password=os.environ['REDIS_PWD'], port=16652)\n",
        "\n",
        "# Preprocessing\n",
        "async def create_textual_description(entry_data):\n",
        "    entry_dict = {k.decode(): v.decode() for k, v in entry_data.items()}\n",
        "\n",
        "    category = entry_dict[\"Category\"]\n",
        "    created_at = entry_dict[\"CreatedAt\"]\n",
        "    acknowledged = \"Acknowledged\" if entry_dict[\"Acknowledged\"] == \"1\" else \"Not Acknowledged\"\n",
        "    remedy = entry_dict[\"Remedy\"]\n",
        "    severity = entry_dict[\"Severity\"]\n",
        "    source = entry_dict[\"Source\"]\n",
        "    node = entry_dict[\"node\"]\n",
        "\n",
        "    description = f\"A {severity} alert of category {category} was raised from the {source} source for node {node} at {created_at}. The alert is {acknowledged}. The recommended remedy is: {remedy}.\"\n",
        "\n",
        "    return description, entry_dict\n",
        "\n",
        "# Saving alert doc\n",
        "async def save(entry):\n",
        "    vector_search = MongoDBAtlasVectorSearch.from_documents(\n",
        "        documents=[Document(\n",
        "            page_content=entry[\"content\"],\n",
        "            metadata=entry[\"metadata\"]\n",
        "        )],\n",
        "        embedding=embedding_model,\n",
        "        collection=alert_collection,\n",
        "        index_name=\"alert_index\",\n",
        "    )\n",
        "    logging.info(\"Alerts stored successfully!\")\n",
        "\n",
        "# Listening to alert stream\n",
        "async def listen_to_alerts(r):\n",
        "    try:\n",
        "        last_id = '$'\n",
        "\n",
        "        while True:\n",
        "            entries = r.xread({stream_name: last_id}, block=0, count=None)\n",
        "\n",
        "            if entries:\n",
        "                stream, new_entries = entries[0]\n",
        "\n",
        "                for entry_id, entry_data in new_entries:\n",
        "                    description, entry_dict = await create_textual_description(entry_data)\n",
        "                    await save({\n",
        "                        \"content\" : description,\n",
        "                        \"metadata\" : entry_dict\n",
        "                    })\n",
        "                    print(description)\n",
        "                    # Update the last ID read\n",
        "                    last_id = entry_id\n",
        "\n",
        "    except KeyboardInterrupt:\n",
        "        print(\"Exiting...\")\n",
        "\n",
        "await listen_to_alerts(r)"
      ],
      "metadata": {
        "execution": {
          "iopub.status.busy": "2024-05-06T17:24:53.602071Z",
          "iopub.execute_input": "2024-05-06T17:24:53.602402Z",
          "iopub.status.idle": "2024-05-06T17:24:55.867523Z",
          "shell.execute_reply.started": "2024-05-06T17:24:53.602374Z",
          "shell.execute_reply": "2024-05-06T17:24:55.866216Z"
        },
        "trusted": true,
        "id": "6VUX8TeSBLsD",
        "outputId": "dfe1bb5b-0719-49b1-b103-fb0a662611e2",
        "colab": {
          "base_uri": "https://localhost:8080/"
        }
      },
      "execution_count": null,
      "outputs": [
        {
          "output_type": "stream",
          "name": "stderr",
          "text": [
            "/usr/local/lib/python3.10/dist-packages/huggingface_hub/utils/_token.py:88: UserWarning: \n",
            "The secret `HF_TOKEN` does not exist in your Colab secrets.\n",
            "To authenticate with the Hugging Face Hub, create a token in your settings tab (https://huggingface.co/settings/tokens), set it as secret in your Google Colab and restart your session.\n",
            "You will be able to reuse this secret in all of your notebooks.\n",
            "Please note that authentication is recommended but still optional to access public models or datasets.\n",
            "  warnings.warn(\n"
          ]
        },
        {
          "output_type": "stream",
          "name": "stdout",
          "text": [
            "A Critical alert of category Security was raised from the Software source for node a4a18bf2-44fd-4a87-a7f7-89fbce94dcfb at 2024-05-08 02:59:49. The alert is Not Acknowledged. The recommended remedy is: Strengthen account security.\n",
            "A Critical alert of category Security was raised from the Software source for node a4a18bf2-44fd-4a87-a7f7-89fbce94dcfb at 2024-05-08 03:00:15. The alert is Not Acknowledged. The recommended remedy is: Investigate potential security breach.\n",
            "A Safe alert of category RuntimeMetrics was raised from the Software source for node a4a18bf2-44fd-4a87-a7f7-89fbce94dcfb at 2024-05-08 03:00:34. The alert is Not Acknowledged. The recommended remedy is: No Alert.\n",
            "A Critical alert of category Security was raised from the Software source for node a4a18bf2-44fd-4a87-a7f7-89fbce94dcfb at 2024-05-08 03:01:01. The alert is Not Acknowledged. The recommended remedy is: Investigate potential security breach.\n",
            "A Critical alert of category Applications was raised from the Software source for node a4a18bf2-44fd-4a87-a7f7-89fbce94dcfb at 2024-05-08 03:01:22. The alert is Not Acknowledged. The recommended remedy is: Number of Processes running at critical level.\n",
            "A Severe alert of category Network was raised from the Hardware source for node a4a18bf2-44fd-4a87-a7f7-89fbce94dcfb at 2024-05-08 03:01:48. The alert is Not Acknowledged. The recommended remedy is: Monitor network traffic closely.\n",
            "A Critical alert of category Applications was raised from the Software source for node a4a18bf2-44fd-4a87-a7f7-89fbce94dcfb at 2024-05-08 03:02:08. The alert is Not Acknowledged. The recommended remedy is: Number of Processes running at critical level.\n",
            "A Safe alert of category Memory was raised from the Hardware source for node a4a18bf2-44fd-4a87-a7f7-89fbce94dcfb at 2024-05-08 03:02:17. The alert is Not Acknowledged. The recommended remedy is: No Alert.\n",
            "A Critical alert of category Applications was raised from the Software source for node a4a18bf2-44fd-4a87-a7f7-89fbce94dcfb at 2024-05-08 03:02:28. The alert is Not Acknowledged. The recommended remedy is: Number of Processes running at critical level.\n",
            "A Critical alert of category Applications was raised from the Software source for node a4a18bf2-44fd-4a87-a7f7-89fbce94dcfb at 2024-05-08 03:02:43. The alert is Not Acknowledged. The recommended remedy is: Number of Processes running at critical level.\n",
            "A Safe alert of category RuntimeMetrics was raised from the Software source for node a4a18bf2-44fd-4a87-a7f7-89fbce94dcfb at 2024-05-08 03:03:03. The alert is Not Acknowledged. The recommended remedy is: No Alert.\n",
            "A Critical alert of category CPU was raised from the Hardware source for node a4a18bf2-44fd-4a87-a7f7-89fbce94dcfb at 2024-05-08 03:03:19. The alert is Not Acknowledged. The recommended remedy is: CPU Utilzation at 90%, Reduce CPU intensive tasks immediately .\n",
            "A Safe alert of category RuntimeMetrics was raised from the Software source for node a4a18bf2-44fd-4a87-a7f7-89fbce94dcfb at 2024-05-08 03:03:36. The alert is Not Acknowledged. The recommended remedy is: No Alert.\n",
            "A Warning alert of category Memory was raised from the Hardware source for node a4a18bf2-44fd-4a87-a7f7-89fbce94dcfb at 2024-05-08 03:03:47. The alert is Not Acknowledged. The recommended remedy is: Memory utilization at 50% .\n",
            "A Severe alert of category Network was raised from the Hardware source for node a4a18bf2-44fd-4a87-a7f7-89fbce94dcfb at 2024-05-08 03:04:04. The alert is Not Acknowledged. The recommended remedy is: Monitor network traffic closely.\n"
          ]
        }
      ]
    }
  ]
}