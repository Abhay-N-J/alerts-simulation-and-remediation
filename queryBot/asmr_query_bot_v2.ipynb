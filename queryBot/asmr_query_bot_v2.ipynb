{
  "metadata": {
    "kernelspec": {
      "language": "python",
      "display_name": "Python 3",
      "name": "python3"
    },
    "language_info": {
      "name": "python",
      "version": "3.10.13",
      "mimetype": "text/x-python",
      "codemirror_mode": {
        "name": "ipython",
        "version": 3
      },
      "pygments_lexer": "ipython3",
      "nbconvert_exporter": "python",
      "file_extension": ".py"
    },
    "kaggle": {
      "accelerator": "none",
      "dataSources": [],
      "dockerImageVersionId": 30699,
      "isInternetEnabled": true,
      "language": "python",
      "sourceType": "notebook",
      "isGpuEnabled": false
    },
    "colab": {
      "name": "LangChainXGroq 🦜️",
      "provenance": [],
      "include_colab_link": true
    }
  },
  "nbformat_minor": 0,
  "nbformat": 4,
  "cells": [
    {
      "cell_type": "markdown",
      "metadata": {
        "id": "view-in-github",
        "colab_type": "text"
      },
      "source": [
        "<a href=\"https://colab.research.google.com/github/ankush-003/alerts-simulation-and-remediation/blob/main/queryBot/asmr_query_bot_v2.ipynb\" target=\"_parent\"><img src=\"https://colab.research.google.com/assets/colab-badge.svg\" alt=\"Open In Colab\"/></a>"
      ]
    },
    {
      "cell_type": "markdown",
      "source": [
        "# **ASMR Query Bot** 🔔"
      ],
      "metadata": {
        "id": "NiZ6OoLtocKf"
      }
    },
    {
      "cell_type": "markdown",
      "source": [
        "## Setup"
      ],
      "metadata": {
        "id": "Uct-AS_EocKn"
      }
    },
    {
      "cell_type": "code",
      "source": [
        "%pip install --quiet langchain-groq langchain pymongo[srv] sentence_transformers streamlit"
      ],
      "metadata": {
        "_uuid": "8f2839f25d086af736a60e9eeb907d3b93b6e0e5",
        "_cell_guid": "b1076dfc-b9ad-4769-8c92-a6c4dae69d19",
        "execution": {
          "iopub.status.busy": "2024-05-02T19:41:56.057467Z",
          "iopub.execute_input": "2024-05-02T19:41:56.05791Z",
          "iopub.status.idle": "2024-05-02T19:42:36.187122Z",
          "shell.execute_reply.started": "2024-05-02T19:41:56.057875Z",
          "shell.execute_reply": "2024-05-02T19:42:36.185855Z"
        },
        "trusted": true,
        "id": "mkFMfc7SocKo"
      },
      "execution_count": 1,
      "outputs": []
    },
    {
      "cell_type": "code",
      "source": [
        "import os\n",
        "from google.colab import userdata\n",
        "\n",
        "os.environ[\"GROQ_API_KEY\"]=userdata.get('GROQ_API_KEY')\n",
        "os.environ[\"MONGO_URI\"]=userdata.get('MONGO_URI')"
      ],
      "metadata": {
        "execution": {
          "iopub.status.busy": "2024-05-02T19:44:26.879069Z",
          "iopub.execute_input": "2024-05-02T19:44:26.879551Z",
          "iopub.status.idle": "2024-05-02T19:44:27.153739Z",
          "shell.execute_reply.started": "2024-05-02T19:44:26.879496Z",
          "shell.execute_reply": "2024-05-02T19:44:27.152557Z"
        },
        "trusted": true,
        "id": "8mJT0EfyocKt"
      },
      "execution_count": 2,
      "outputs": []
    },
    {
      "cell_type": "markdown",
      "source": [
        "## Groq Test"
      ],
      "metadata": {
        "id": "WACRciRhAte0"
      }
    },
    {
      "cell_type": "code",
      "source": [
        "from langchain_core.prompts import ChatPromptTemplate\n",
        "from langchain_groq import ChatGroq"
      ],
      "metadata": {
        "execution": {
          "iopub.status.busy": "2024-05-02T19:42:36.342258Z",
          "iopub.execute_input": "2024-05-02T19:42:36.343424Z",
          "iopub.status.idle": "2024-05-02T19:42:37.300957Z",
          "shell.execute_reply.started": "2024-05-02T19:42:36.343387Z",
          "shell.execute_reply": "2024-05-02T19:42:37.300047Z"
        },
        "trusted": true,
        "id": "boRDyZDzocKu"
      },
      "execution_count": 3,
      "outputs": []
    },
    {
      "cell_type": "code",
      "source": [
        "chat = ChatGroq(temperature=0, model_name=\"mixtral-8x7b-32768\")"
      ],
      "metadata": {
        "execution": {
          "iopub.status.busy": "2024-05-02T19:42:37.303713Z",
          "iopub.execute_input": "2024-05-02T19:42:37.304881Z",
          "iopub.status.idle": "2024-05-02T19:42:37.799762Z",
          "shell.execute_reply.started": "2024-05-02T19:42:37.304845Z",
          "shell.execute_reply": "2024-05-02T19:42:37.79869Z"
        },
        "trusted": true,
        "id": "qlUmjJvuocKu"
      },
      "execution_count": 4,
      "outputs": []
    },
    {
      "cell_type": "code",
      "source": [
        "system = \"You are a helpful assistant.\"\n",
        "human = \"{text}\"\n",
        "prompt = ChatPromptTemplate.from_messages([(\"system\", system), (\"human\", human)])\n",
        "\n",
        "chain = prompt | chat\n",
        "chain.invoke({\"text\": \"Explain the importance of low latency LLMs.\"})"
      ],
      "metadata": {
        "execution": {
          "iopub.status.busy": "2024-05-02T19:42:37.801087Z",
          "iopub.execute_input": "2024-05-02T19:42:37.801474Z",
          "iopub.status.idle": "2024-05-02T19:42:38.609058Z",
          "shell.execute_reply.started": "2024-05-02T19:42:37.801432Z",
          "shell.execute_reply": "2024-05-02T19:42:38.607707Z"
        },
        "trusted": true,
        "colab": {
          "base_uri": "https://localhost:8080/"
        },
        "id": "Dr5IH4e3ocKv",
        "outputId": "4761a20d-d852-4420-ae73-51fb484ee939"
      },
      "execution_count": 5,
      "outputs": [
        {
          "output_type": "execute_result",
          "data": {
            "text/plain": [
              "AIMessage(content='Sure, I\\'d be happy to explain!\\n\\nLLM stands for \"Low Latency Logging,\" which is a method of recording and transmitting data with minimal delay. Low latency LLMs are particularly important in time-sensitive applications where real-time data processing is critical. Here are some reasons why low latency LLMs are important:\\n\\n1. Improved user experience: In applications such as online gaming or video conferencing, low latency LLMs ensure that data is transmitted and processed quickly, resulting in a smoother and more responsive user experience.\\n2. Increased efficiency: Low latency LLMs enable faster data processing, which can lead to increased efficiency in data-intensive applications such as financial trading or scientific simulations.\\n3. Enhanced security: In security-critical applications, low latency LLMs can help detect and respond to threats more quickly, reducing the risk of data breaches or other security incidents.\\n4. Better decision-making: In real-time decision-making scenarios, such as autonomous vehicles or industrial automation, low latency LLMs can provide the necessary data in near real-time, enabling faster and more accurate decision-making.\\n\\nOverall, low latency LLMs are essential in applications where timely and accurate data processing is critical. By minimizing delay and ensuring fast data transmission, low latency LLMs can improve user experience, increase efficiency, enhance security, and enable better decision-making.', response_metadata={'token_usage': {'completion_time': 0.552, 'completion_tokens': 309, 'prompt_time': 0.006, 'prompt_tokens': 26, 'queue_time': None, 'total_time': 0.558, 'total_tokens': 335}, 'model_name': 'mixtral-8x7b-32768', 'system_fingerprint': 'fp_c5f20b5bb1', 'finish_reason': 'stop', 'logprobs': None}, id='run-9b120d31-37d9-405a-a955-12bcb5473678-0')"
            ]
          },
          "metadata": {},
          "execution_count": 5
        }
      ]
    },
    {
      "cell_type": "code",
      "source": [
        "chat = ChatGroq(temperature=0, model_name=\"llama3-70b-8192\")\n",
        "prompt = ChatPromptTemplate.from_messages([(\"human\", \"Write a essay on about {topic} in 1000 words\")])\n",
        "chain = prompt | chat\n",
        "for chunk in chain.stream({\"topic\": \"The Moon\"}):\n",
        "    print(chunk.content, end=\"\", flush=True)"
      ],
      "metadata": {
        "execution": {
          "iopub.status.busy": "2024-05-02T19:57:09.465341Z",
          "iopub.execute_input": "2024-05-02T19:57:09.465787Z",
          "iopub.status.idle": "2024-05-02T19:57:12.729207Z",
          "shell.execute_reply.started": "2024-05-02T19:57:09.465754Z",
          "shell.execute_reply": "2024-05-02T19:57:12.728007Z"
        },
        "trusted": true,
        "colab": {
          "base_uri": "https://localhost:8080/"
        },
        "id": "OGP7l4OLocKw",
        "outputId": "1bd43822-a8cb-4aa2-9b0c-ae71df38f154"
      },
      "execution_count": 6,
      "outputs": [
        {
          "output_type": "stream",
          "name": "stdout",
          "text": [
            "The Moon: Earth's Celestial Companion\n",
            "\n",
            "The Moon, Earth's sole natural satellite, has been a source of fascination and wonder for humans since the dawn of time. This celestial body has been an integral part of our planet's history, influencing the tides, stabilizing Earth's axis, and inspiring countless scientific, artistic, and cultural achievements. In this essay, we will delve into the Moon's formation, composition, and significance, as well as its impact on human society and our understanding of the universe.\n",
            "\n",
            "Formation and Composition\n",
            "\n",
            "The Moon is believed to have formed approximately 4.5 billion years ago, not long after the formation of the Earth. One of the most widely accepted theories is the giant impact hypothesis, which suggests that a massive object collided with Earth, causing debris to be ejected into orbit and eventually coalesce into the Moon. This collision is thought to have occurred when the solar system was still in its early stages of formation, and the resulting debris would have been rich in silicate minerals, which are the primary components of the Moon's crust.\n",
            "\n",
            "The Moon's composition is primarily made up of silicate rocks, metals, and other minerals, with a small iron-rich core at its center. The surface is characterized by dark, lava-filled basins known as \"seas,\" which are visible from Earth as large, dark spots. These seas are thought to have formed as a result of ancient volcanic activity, which flooded the low-lying areas of the Moon's surface. The highlands, on the other hand, are composed of older, lighter-colored rocks that are rich in calcium and aluminum.\n",
            "\n",
            "Orbital Characteristics\n",
            "\n",
            "The Moon orbits Earth at an average distance of approximately 239,000 miles (384,000 kilometers), which is about 30 times the diameter of our planet. This proximity has a profound impact on Earth's tides, as the Moon's gravitational pull causes the oceans to bulge, creating high and low tides. The Moon's orbit is not a perfect circle, which means that its distance from Earth varies throughout the month, affecting the strength of its gravitational pull and, consequently, the tides.\n",
            "\n",
            "The Moon's orbital period, or the time it takes to complete one orbit around Earth, is approximately 27.3 days, which is the same amount of time it takes to rotate once on its axis. This synchronous rotation is a result of the Moon's tidal locking, which occurs when the gravitational force of a larger body, in this case Earth, slows the rotation of a smaller body, in this case the Moon, until it becomes tidally locked.\n",
            "\n",
            "Significance and Impact\n",
            "\n",
            "The Moon has played a crucial role in the development of human society, influencing everything from agriculture to art. In ancient times, the Moon's cycles were used to keep track of time, with many cultures developing lunar calendars to organize their daily lives. The Moon's phases were also used to predict seasonal changes, allowing farmers to plan their harvests and plantings accordingly.\n",
            "\n",
            "The Moon has also been a source of inspiration for artists, writers, and musicians throughout history. From Beethoven's \"Moonlight Sonata\" to Claude Debussy's \"Clair de Lune,\" the Moon has been a recurring theme in music and literature. In art, the Moon has been depicted in countless paintings, from the dreamlike landscapes of J.M.W. Turner to the surrealistic works of Salvador Dali.\n",
            "\n",
            "In addition to its cultural significance, the Moon has played a crucial role in the development of modern science. The Apollo missions, which successfully landed astronauts on the Moon's surface in the late 1960s and early 1970s, marked a major milestone in space exploration. The data collected during these missions has greatly expanded our understanding of the Moon's composition, geology, and history.\n",
            "\n",
            "The Moon's proximity to Earth also makes it an ideal location for astronomical observations. The lack of atmospheric interference on the Moon's surface allows for clearer views of the universe, making it an attractive location for future astronomical observatories.\n",
            "\n",
            "Conclusion\n",
            "\n",
            "The Moon is a fascinating and complex celestial body that has captivated human imagination for centuries. From its formation in the early days of the solar system to its impact on human society and our understanding of the universe, the Moon is an integral part of our planet's history. As we continue to explore the Moon and the universe beyond, we are reminded of the importance of continued scientific inquiry and exploration.\n",
            "\n",
            "As we look to the future, the Moon is likely to play an increasingly important role in our exploration of space. With its proximity to Earth and relatively low gravity, the Moon is an attractive location for future lunar bases, which could serve as a stepping stone for further exploration of the solar system. The Moon's resources, including helium-3, a rare isotope that could be used as fuel for nuclear fusion, make it an attractive location for future mining operations.\n",
            "\n",
            "In conclusion, the Moon is a remarkable celestial body that has had a profound impact on human society and our understanding of the universe. As we continue to explore the Moon and the universe beyond, we are reminded of the importance of continued scientific inquiry and exploration, and the boundless wonders that await us in the vast expanse of space."
          ]
        }
      ]
    },
    {
      "cell_type": "markdown",
      "source": [
        "# Vectorsearch Test"
      ],
      "metadata": {
        "id": "zoJbfF2VAzjc"
      }
    },
    {
      "cell_type": "code",
      "source": [
        "import os\n",
        "from collections.abc import Collection\n",
        "from langchain.memory import ChatMessageHistory\n",
        "from langchain_groq import ChatGroq\n",
        "from langchain_core.prompts import ChatPromptTemplate, MessagesPlaceholder\n",
        "from langchain_community.vectorstores import MongoDBAtlasVectorSearch\n",
        "from langchain_community.embeddings import HuggingFaceEmbeddings\n",
        "from langchain.chains import create_history_aware_retriever, create_retrieval_chain\n",
        "from langchain.chains.combine_documents import create_stuff_documents_chain\n",
        "from langchain.output_parsers import ResponseSchema, StructuredOutputParser\n",
        "from langchain_core.runnables.history import RunnableWithMessageHistory\n",
        "from langchain_core.runnables import RunnablePassthrough\n",
        "from langchain_core.chat_history import BaseChatMessageHistory\n",
        "from langchain.chains import RetrievalQA\n",
        "import nest_asyncio\n",
        "from langchain_core.output_parsers import StrOutputParser\n",
        "nest_asyncio.apply()\n",
        "\n",
        "# config\n",
        "database = \"AlertSimAndRemediation\"\n",
        "collection = \"alert_embed\"\n",
        "index_name = \"alert_index\"\n",
        "\n",
        "# llm\n",
        "chat = ChatGroq(temperature=0, model_name=\"mixtral-8x7b-32768\")\n",
        "\n",
        "# embedding model\n",
        "embedding_args = {\n",
        "    \"model_name\" : \"BAAI/bge-large-en-v1.5\",\n",
        "    \"model_kwargs\" : {\"device\": \"cpu\"},\n",
        "    \"encode_kwargs\" : {\"normalize_embeddings\": True}\n",
        "}\n",
        "embedding_model = HuggingFaceEmbeddings(**embedding_args)\n",
        "\n",
        "# chat history\n",
        "# chat_history = ChatMessageHistory()\n",
        "\n",
        "# vector search\n",
        "vector_search = MongoDBAtlasVectorSearch.from_connection_string(\n",
        "    os.environ[\"MONGO_URI\"],\n",
        "    f\"{database}.{collection}\",\n",
        "    embedding_model,\n",
        "    index_name=index_name,\n",
        ")\n",
        "\n",
        "qa_retriever = vector_search.as_retriever(\n",
        "    search_type=\"similarity\",\n",
        "    search_kwargs={\"k\": 2},\n",
        ")\n",
        "\n",
        "# contextualising prev chats\n",
        "contextualize_q_system_prompt = \"\"\"Given a chat history and the latest user question \\\n",
        "which might reference context in the chat history, formulate a standalone question \\\n",
        "which can be understood without the chat history. Do NOT answer the question, \\\n",
        "just reformulate it if needed and otherwise return it as is.\"\"\"\n",
        "contextualize_q_prompt = ChatPromptTemplate.from_messages(\n",
        "    [\n",
        "        (\"system\", contextualize_q_system_prompt),\n",
        "        MessagesPlaceholder(\"chat_history\"),\n",
        "        (\"human\", \"{input}\"),\n",
        "    ]\n",
        ")\n",
        "history_aware_retriever = create_history_aware_retriever(\n",
        "    chat, qa_retriever, contextualize_q_prompt\n",
        ")\n",
        "\n",
        "# prompt\n",
        "system_prompt = \"\"\"\n",
        "You are a helpful query assistant for Alertmanager, an open-source system for monitoring and alerting on system metrics. Your goal is to accurately answer questions related to alerts triggered within the Alertmanager system based on the alert information provided to you. \\\n",
        "You will be given details about specific alerts, including the alert source, severity, category, and any other relevant metadata. Using this information, you should be able to respond to queries about the nature of the alert, what it signifies, potential causes, and recommended actions or troubleshooting steps. \\\n",
        "Your responses should be clear, concise, and tailored to the specific alert details provided, while also drawing from your broader knowledge about Alertmanager and monitoring best practices when relevant. If you cannot provide a satisfactory answer due to insufficient information, politely indicate that and ask for any additional context needed. \\\n",
        "\n",
        "<context>\n",
        "{context}\n",
        "</context>\n",
        "\"\"\"\n",
        "\n",
        "chat_history = []\n",
        "\n",
        "qa_prompt = ChatPromptTemplate.from_messages(\n",
        "    [\n",
        "        (\"system\", system_prompt),\n",
        "        MessagesPlaceholder(\"chat_history\"),\n",
        "        (\"human\", \"{input}\"),\n",
        "    ]\n",
        ")\n",
        "\n",
        "# preprocessing context\n",
        "def format_docs_with_metadata(docs):\n",
        "    formatted_docs = []\n",
        "    for i, doc in enumerate(docs, start=1):\n",
        "        metadata_str = \"\\n\".join([f\"**{key}**: {value}\" for key, value in doc.metadata.items() if key != \"embedding\"])\n",
        "        formatted_doc = f\"**{i}.**\\n{doc.page_content}\\n\\n**Metadata:**\\n{metadata_str}\"\n",
        "        formatted_docs.append(formatted_doc)\n",
        "    return \"\\n\\n\".join(formatted_docs)\n",
        "\n",
        "question_answer_chain = create_stuff_documents_chain(chat, qa_prompt) | StrOutputParser()\n",
        "\n",
        "# output parser\n",
        "response_schemas = [\n",
        "    ResponseSchema(name=\"answer\", description=\"answer to the user's question\"),\n",
        "    ResponseSchema(\n",
        "        name=\"source\",\n",
        "        description=\"source used to answer the user's question, should be a website.\",\n",
        "    )\n",
        "]\n",
        "output_parser = StructuredOutputParser.from_response_schemas(response_schemas)\n",
        "\n",
        "\n",
        "rag_chain = create_retrieval_chain(history_aware_retriever, question_answer_chain)\n",
        "\n",
        "# managing message history\n",
        "store = {}\n",
        "\n",
        "def get_session_history(session_id: str) -> BaseChatMessageHistory:\n",
        "    if session_id not in store:\n",
        "        store[session_id] = ChatMessageHistory()\n",
        "    return store[session_id]\n",
        "\n",
        "conversational_rag_chain = RunnableWithMessageHistory(\n",
        "    rag_chain,\n",
        "    get_session_history,\n",
        "    input_messages_key=\"input\",\n",
        "    history_messages_key=\"chat_history\",\n",
        "    output_messages_key=\"answer\",\n",
        ")\n",
        "\n",
        "# schema\n",
        "# print(conversational_rag_chain.input_schema.schema())\n",
        "# print(conversational_rag_chain.output_schema.schema())\n",
        "\n",
        "\n",
        "# Retrieves documents\n",
        "# retriever_chain = create_history_aware_retriever(chat, qa_retriever, prompt)\n",
        "\n",
        "# retriever_chain.invoke({\n",
        "#     \"chat_history\": chat_history,\n",
        "#     \"input\": \"Tell me about the latest alert\"\n",
        "# })\n",
        "\n",
        "res = conversational_rag_chain.invoke(\n",
        "    {\"input\": \"What is the remedy to the latest alert\"},\n",
        "    config={\n",
        "        \"configurable\": {\"session_id\": \"abc123\"}\n",
        "    },  # constructs a key \"abc123\" in `store`.\n",
        ")\n",
        "\n",
        "print(res[\"answer\"])\n",
        "print(format_docs_with_metadata(res[\"context\"]))\n",
        "\n",
        "for chunk in conversational_rag_chain.stream(\n",
        "    {\"input\": \"What is the remedy to the latest alert\"},\n",
        "    config={\n",
        "        \"configurable\": {\"session_id\": \"abc123\"}\n",
        "    },  # constructs a key \"abc123\" in `store`.\n",
        "):\n",
        "\n",
        "    if 'context' in chunk:\n",
        "      print(format_docs_with_metadata(chunk[\"context\"]))\n",
        "    if 'answer' in chunk:\n",
        "      print(chunk['answer'], flush=True, end=\"\")\n",
        "\n",
        "\n",
        "# for s in conversational_rag_chain.stream(\n",
        "#     {\"input\": \"What is the latest alert and which node is it from ?\"},\n",
        "#     config={\n",
        "#         \"configurable\": {\"session_id\": \"abc123\"}\n",
        "#     },\n",
        "# ):\n",
        "#     print(s, end=\"\", flush=True)"
      ],
      "metadata": {
        "colab": {
          "base_uri": "https://localhost:8080/"
        },
        "id": "mXwQoETNAwMb",
        "outputId": "2b297bd4-21b9-4f48-fea2-93d3845ba1ed"
      },
      "execution_count": 12,
      "outputs": [
        {
          "output_type": "stream",
          "name": "stderr",
          "text": [
            "WARNING:langchain_core.tracers.base:Parent run a9b318e6-1dba-4360-8d98-6ffdcc1f461a not found for run 180311e8-2b2c-4179-a6a0-b8b035913792. Treating as a root run.\n"
          ]
        },
        {
          "output_type": "stream",
          "name": "stdout",
          "text": [
            "**1.**\n",
            "A Severe alert of category Network was raised from the Hardware source for node a4a18bf2-44fd-4a87-a7f7-89fbce94dcfb at 2024-05-08 03:04:04. The alert is Not Acknowledged. The recommended remedy is: Monitor network traffic closely.\n",
            "\n",
            "**Metadata:**\n",
            "**_id**: 663a9e4f87000b6df1a4cba2\n",
            "**CreatedAt**: 2024-05-08 03:04:04\n",
            "**Acknowledged**: 0\n",
            "**Remedy**: Monitor network traffic closely\n",
            "**Severity**: Severe\n",
            "**Source**: Hardware\n",
            "**node**: a4a18bf2-44fd-4a87-a7f7-89fbce94dcfb\n",
            "**Category**: Network\n",
            "\n",
            "**2.**\n",
            "A Severe alert of category Network was raised from the Hardware source for node a4a18bf2-44fd-4a87-a7f7-89fbce94dcfb at 2024-05-08 03:01:48. The alert is Not Acknowledged. The recommended remedy is: Monitor network traffic closely.\n",
            "\n",
            "**Metadata:**\n",
            "**_id**: 663a9dc687000b6df1a4cb99\n",
            "**Severity**: Severe\n",
            "**Source**: Hardware\n",
            "**node**: a4a18bf2-44fd-4a87-a7f7-89fbce94dcfb\n",
            "**Category**: Network\n",
            "**CreatedAt**: 2024-05-08 03:01:48\n",
            "**Acknowledged**: 0\n",
            "**Remedy**: Monitor network traffic closely\n",
            "The remedy to the latest alert is to monitor network traffic closely."
          ]
        }
      ]
    },
    {
      "cell_type": "code",
      "source": [
        "conversational_rag_chain.invoke(\n",
        "    {\"input\": \"can you explain the remedy that you provided previously inb detail\"},\n",
        "    config={\n",
        "        \"configurable\": {\"session_id\": \"abc123\"}\n",
        "    },  # constructs a key \"abc123\" in `store`.\n",
        ")"
      ],
      "metadata": {
        "colab": {
          "base_uri": "https://localhost:8080/"
        },
        "id": "1cbb0f1unfP5",
        "outputId": "76a5a764-e616-425b-dd3b-c9be1dbb7198"
      },
      "execution_count": 8,
      "outputs": [
        {
          "output_type": "stream",
          "name": "stderr",
          "text": [
            "WARNING:langchain_core.tracers.base:Parent run 7d966209-fa45-467e-80a1-3a31736d44c6 not found for run 3a92683f-119a-4f0f-b23f-91dff1f950e0. Treating as a root run.\n"
          ]
        },
        {
          "output_type": "execute_result",
          "data": {
            "text/plain": [
              "{'input': 'can you explain the remedy that you provided previously inb detail',\n",
              " 'chat_history': [HumanMessage(content='What is the remedy to the latest alert'),\n",
              "  AIMessage(content='The remedy to the latest alert is to monitor network traffic closely.')],\n",
              " 'context': [Document(page_content='A Severe alert of category Network was raised from the Hardware source for node a4a18bf2-44fd-4a87-a7f7-89fbce94dcfb at 2024-05-08 03:04:04. The alert is Not Acknowledged. The recommended remedy is: Monitor network traffic closely.', metadata={'_id': ObjectId('663a9e4f87000b6df1a4cba2'), 'embedding': [-0.0026083788834512234, 0.015334388241171837, -0.03778952360153198, 0.06690531969070435, 0.022192401811480522, -0.015791084617376328, 0.029491988942027092, -0.02906719036400318, 0.013931314460933208, 0.06609197705984116, 0.02190079726278782, -0.039952948689460754, 0.027515923604369164, -0.017939701676368713, -0.04218700900673866, -0.021478867158293724, -0.008489315398037434, -0.02031848207116127, 0.021776383742690086, 0.017876753583550453, 0.0469985157251358, 0.034196652472019196, -0.06247209012508392, -0.019250094890594482, -0.07084384560585022, 0.023993493989109993, -0.023446429520845413, -0.0056102219969034195, 0.05341629311442375, 0.07892684638500214, -0.011129851453006268, -0.06561499834060669, 0.007165629882365465, -0.017476269975304604, -0.025262705981731415, -0.037051018327474594, 0.021778075024485588, -0.02880558744072914, -0.02389252372086048, -0.06351447105407715, -0.016793226823210716, -0.001969393575564027, 0.04273321479558945, -0.06443844735622406, 0.015187954530119896, -0.011089764535427094, 0.019302528351545334, 0.02368379570543766, 0.03764662891626358, -0.017995726317167282, -0.015119180083274841, 0.0384807251393795, -0.007524715270847082, -0.024973232299089432, 0.0029820583295077085, -0.015204443596303463, -0.010310416109859943, -0.0007854975992813706, -0.02095939964056015, -0.021222300827503204, 0.011464773677289486, -0.02109411731362343, 0.017078116536140442, -0.02763615921139717, 0.0174908135086298, 0.016884230077266693, -0.03268364816904068, 0.03133406117558479, -0.0538620799779892, -0.005718941800296307, -0.030380776152014732, 0.05326942726969719, -0.04100804775953293, -0.042650654911994934, -0.04313896223902702, 0.020766066387295723, -0.014550897292792797, 0.01187867484986782, 0.010382773354649544, 0.03191336989402771, -0.010268238373100758, 0.018439074978232384, 0.018989965319633484, -0.020435554906725883, -0.016848871484398842, -0.01793026179075241, 0.028627386316657066, 0.011213285848498344, -0.031698983162641525, -0.013550433330237865, 0.03235660120844841, 0.01744076982140541, -0.0015621862839907408, -0.020120559260249138, 0.0376175232231617, 0.035827960819005966, -0.0008477672818116844, 0.06421759724617004, -0.011914040893316269, -0.009441634640097618, 0.01958995684981346, 0.05961417779326439, -0.00767705962061882, 0.03240181878209114, -0.048148635774850845, 0.02033105678856373, 0.07090484350919724, -0.014635433442890644, -0.012246448546648026, -0.030130544677376747, 0.0003872296365443617, 0.012175748124718666, -0.024042760953307152, -0.015597225166857243, -0.009792279452085495, 0.027580853551626205, -0.018408585339784622, -0.01818758063018322, -0.01074662059545517, -0.0026730771642178297, 0.029413798823952675, -0.020904503762722015, 0.030273597687482834, -0.03010503388941288, -0.014577778987586498, -0.024427086114883423, 0.034995339810848236, 0.04037178307771683, -0.041320495307445526, -0.0032043461687862873, -0.03599848970770836, -0.00828100461512804, 0.009382400661706924, 0.028171807527542114, 0.026368621736764908, -0.015368981286883354, 0.0419149175286293, 2.0192617739667185e-05, 0.03838442265987396, -0.02354404516518116, 0.0014314430300146341, -0.005690444260835648, -0.020066119730472565, 0.09860670566558838, -0.018374497070908546, 0.030791645869612694, 0.006845362018793821, 0.015446624718606472, -0.06876824051141739, 0.0009381615091115236, -0.0005114736268296838, 0.02521451935172081, -0.01652904786169529, 0.03793688863515854, -0.005763745866715908, 0.008067049086093903, -0.013875041157007217, -0.009741601534187794, 0.01695847697556019, 0.01916664093732834, 0.015506383962929249, 0.0510307252407074, -0.011626471765339375, 0.04410383850336075, -0.049537383019924164, 0.022793766111135483, -0.022546619176864624, -0.04003779962658882, -0.01744610257446766, -0.02317124977707863, 0.029497692361474037, 0.029781775549054146, -0.04144342243671417, 0.04575902223587036, 0.04848824441432953, -0.019201846793293953, 0.041543759405612946, -0.0029040740337222815, 0.009085624478757381, 0.02386781945824623, 0.02080390602350235, -0.0021035545505583286, 0.03968412056565285, 0.04284961521625519, 0.03669825568795204, 0.025169461965560913, 0.044997937977313995, -0.06720107793807983, -0.04466504603624344, -0.016827793791890144, 0.009605693630874157, 0.03214937075972557, 0.01297086849808693, 0.04763137921690941, -0.013518762774765491, -0.01448081061244011, -0.027745617553591728, -0.023986751213669777, 0.05794210731983185, -0.0505920872092247, 0.013511721044778824, 0.032412827014923096, -0.03977622464299202, 0.04764410853385925, -0.024905072525143623, -0.045593101531267166, 0.020721307024359703, 0.044186774641275406, 0.004537057597190142, -0.018586738035082817, 0.024877820163965225, 0.00764355668798089, -0.018150880932807922, 0.008353780955076218, 0.027367372065782547, -0.0051874504424631596, -0.007696496322751045, 0.05513989180326462, 0.04735301062464714, 0.0034050820395350456, -0.01621335558593273, 0.05048167705535889, 0.02936987392604351, 0.042064305394887924, -0.01648951880633831, -0.0550619401037693, -0.012203127145767212, 0.0010352563112974167, 0.009247012436389923, 0.0028865833301097155, -0.02375860884785652, 0.03334052115678787, -0.030659152194857597, 0.06860122084617615, 0.035824816673994064, -0.007432685233652592, 0.055629242211580276, 0.02721398137509823, 0.012755618430674076, 0.01891183853149414, -0.0011907400330528617, 0.034275274723768234, 0.020076507702469826, 0.002390848472714424, 0.00783106591552496, 0.0035254377871751785, 0.037451498210430145, -0.02202370949089527, -0.07713725417852402, -0.027442695572972298, 0.005441384389996529, 0.036319486796855927, 0.04432929679751396, 0.006152880843728781, -0.046560920774936676, 0.003555998904630542, 0.0005237571313045919, 0.0736863762140274, -0.009600996039807796, -0.012283463962376118, -0.002523321658372879, -0.021639788523316383, 0.011272932402789593, -0.000222898117499426, 0.01583367958664894, 0.035175621509552, 0.015802131965756416, 0.03974419832229614, -0.015851592645049095, -0.04588095098733902, -0.05983225628733635, -0.022482702508568764, -0.03785618767142296, -0.010404536500573158, -0.06172513961791992, 0.016399195417761803, 0.007958372123539448, -0.04410945624113083, 0.08096688240766525, -0.013089667074382305, -0.00047665630700066686, 0.05928374081850052, -0.020322386175394058, 0.039267975836992264, -0.03072100505232811, 0.0012144575593993068, -0.04256222024559975, -0.020867735147476196, 0.0004633528005797416, 0.04351530596613884, -0.05016884580254555, -0.032904818654060364, -0.027346549555659294, -0.02038593962788582, 0.04167695343494415, -0.009632802568376064, -0.010564056225121021, -0.021315472200512886, -0.026278432458639145, -0.03440646827220917, -0.027917057275772095, -0.011720376089215279, -0.005620391108095646, -0.03359567001461983, -0.012651875615119934, 0.018084261566400528, 0.02185649983584881, -0.03718597814440727, 0.0416581891477108, 0.05033482238650322, -0.020832128822803497, 0.042582347989082336, 0.0018963849870488048, -0.012603966519236565, -0.018005408346652985, 0.0550091378390789, 0.02571587637066841, 0.02262839674949646, -0.019121693447232246, -0.03166278079152107, 0.004521232098340988, -0.009397277608513832, -0.005299507640302181, -0.03359098732471466, -0.01429247297346592, 0.02506279945373535, 0.016468532383441925, -0.049440644681453705, 0.057540468871593475, -0.06357347220182419, -0.030116427689790726, -0.012630707584321499, -0.038809165358543396, 0.04346325248479843, 0.043592117726802826, 0.06562946736812592, -0.013422831892967224, -0.007188596297055483, -0.013656506314873695, 0.023988846689462662, 0.02056547813117504, -0.021845458075404167, -0.008773347362875938, 0.05339083448052406, -0.023549526929855347, 0.0005253932322375476, 0.005913550034165382, 0.007942049764096737, 0.0057936119846999645, -0.004920892883092165, -0.03930235654115677, 0.026524992659687996, -0.014968661591410637, 0.00623738020658493, 0.0262471791356802, 0.04369292035698891, -0.004150571767240763, 0.01834462769329548, 0.010239389725029469, 0.02926291897892952, 0.002200242830440402, -0.02279548905789852, -0.009227272123098373, 0.008507125079631805, -0.005195242818444967, -0.03322720527648926, -0.00605271989479661, 0.018296629190444946, 0.033256690949201584, -0.025166988372802734, 0.005893130786716938, -0.0006496572168543935, -0.005090662278234959, -0.019586894661188126, -0.025436323136091232, 0.013400819152593613, 0.017029764130711555, -0.04974966123700142, 0.05194719880819321, -0.04622476175427437, 0.012131880037486553, 0.011129389517009258, 0.04587113857269287, 0.03808106854557991, -0.006044578272849321, 0.009179568849503994, -0.03398078307509422, 0.027460208162665367, -0.002501207171007991, -0.007302538491785526, 0.015521641820669174, -0.03591102734208107, 0.0031594436150044203, -0.0008411598391830921, -0.02802634984254837, -0.07322171330451965, -0.006457637995481491, 0.037813588976860046, 0.011996874585747719, 0.01568671688437462, 0.038006413727998734, -0.025441335514187813, 0.016259202733635902, 0.017974425107240677, -0.024001197889447212, 0.025096721947193146, -0.04042643681168556, 0.014507565647363663, 0.010517096146941185, 0.008564069867134094, -0.028942668810486794, -0.006249650847166777, 0.026226714253425598, -0.01061810553073883, -0.006155754905194044, -0.03962258994579315, -0.051477380096912384, 0.02214663475751877, 0.029498249292373657, -0.005160116590559483, 0.004078354686498642, -0.04241947457194328, -0.019692959263920784, 0.02568207122385502, 0.003950077574700117, -0.05873360112309456, 0.015686197206377983, -0.05439373850822449, 0.017552267760038376, 0.03799334540963173, -0.02554788812994957, -0.02100246399641037, 0.0025800676085054874, -0.0409071184694767, -0.022166606038808823, 0.03882119804620743, 0.05863300338387489, -0.043850526213645935, -0.01725596748292446, -0.040983349084854126, 0.02578110247850418, 0.021955201402306557, 0.019176656380295753, -0.045888952910900116, 0.00505318446084857, -0.027573373168706894, 0.029232196509838104, -0.0013607125729322433, 0.003447196679189801, -0.010120817460119724, 0.02530168741941452, -0.028335606679320335, 0.028261439874768257, -0.05730067938566208, -0.0202864408493042, -0.005401244852691889, 0.02194412238895893, -0.007397392764687538, 0.04526367783546448, -0.010035516694188118, -0.0027797126676887274, -0.021510284394025803, 0.007353604771196842, -0.001923564006574452, -0.04006894677877426, 0.029893284663558006, -0.00868147425353527, 0.012706038542091846, 0.014610146172344685, -0.01802859455347061, -0.02544449456036091, 0.04391341656446457, -0.011560198850929737, -0.007580876816064119, 0.04338621720671654, -0.006917890161275864, 0.027625558897852898, 0.02236642688512802, -0.014394853264093399, 0.004730801098048687, -0.04900025948882103, 0.05206126347184181, 0.023352691903710365, -0.03830168768763542, -0.026114918291568756, -0.008335898630321026, 0.03328311815857887, 0.010852857492864132, -0.026255972683429718, 0.056636977940797806, 0.02544507570564747, 0.049560900777578354, -0.035933393985033035, 0.01978747732937336, -0.04211578145623207, 0.015791621059179306, -0.031766634434461594, -0.009709455072879791, 0.04476115480065346, 0.023122455924749374, 0.06788370758295059, -0.062228135764598846, -0.04716522619128227, 2.1004921109124552e-06, 0.007180118001997471, -0.017414039000868797, -0.07009376585483551, 0.047362785786390305, 0.0052502998150885105, 0.01126393023878336, -0.02512902021408081, 0.009484151378273964, -0.020203113555908203, -0.026008058339357376, 0.006412071641534567, 0.01196801196783781, -0.0036824613343924284, -0.019123276695609093, -0.028751347213983536, 0.0032174077350646257, 0.042275168001651764, -0.0386604368686676, -0.01911427266895771, 0.022768596187233925, -0.01044374518096447, 0.020459262654185295, 0.01229223981499672, -0.06203983351588249, -0.014044016599655151, -0.017599938437342644, 0.0013955513713881373, -0.04010408744215965, 0.025281425565481186, 0.018518950790166855, -0.0008913178462535143, -0.011407298967242241, 0.04518084600567818, 0.01489511039108038, 0.01850910298526287, 0.01861550286412239, -0.0406920351088047, 0.017634477466344833, -0.034217074513435364, -0.02738747000694275, -0.015224703587591648, -0.013399837538599968, -0.024314269423484802, 0.03338244557380676, 0.000232928607147187, -0.024051005020737648, -0.04080772399902344, 0.0037301317788660526, 0.017543306574225426, 0.0047318171709775925, -0.04353359714150429, -0.06177946552634239, 0.0052251266315579414, 0.02385709621012211, -0.03304921090602875, 0.017988065257668495, -0.05474716052412987, 0.03411494567990303, -0.021005433052778244, 0.019938552752137184, -0.009937729686498642, -0.014091757126152515, -0.018483063206076622, 0.005294149275869131, 0.06075736880302429, -0.06248568743467331, 0.0017341234488412738, 0.02408861368894577, 0.008162518963217735, -0.0017522055422887206, 0.018185600638389587, -0.03485090285539627, -0.03603780269622803, -0.04057472571730614, -0.06558921188116074, 0.008884191513061523, -0.017898909747600555, -0.037073004990816116, -0.0016683510039001703, -0.0036809726152569056, -0.009477175772190094, -0.028239993378520012, 0.03430961072444916, 0.0300549678504467, -0.01017907913774252, -0.009641329757869244, -0.017399445176124573, 0.018759649246931076, 0.02761506848037243, -0.01977001316845417, -0.007919665426015854, 0.004950639326125383, -0.054347362369298935, -0.04328635334968567, -0.02792639285326004, -0.04200487956404686, -0.03098173812031746, -0.02378927543759346, 0.04166397079825401, -0.053008466958999634, 0.05166223272681236, -0.03615809604525566, -0.01759834587574005, -0.030361710116267204, 0.041305188089609146, 0.00033765265834517777, 0.013582902029156685, 0.039315883070230484, 0.024067481979727745, 0.007978999055922031, 0.06014818325638771, -0.009635457769036293, -0.005379362963140011, -0.00786434393376112, 0.0037665204145014286, -0.01403675228357315, -0.019215604290366173, 0.018445560708642006, 0.02249515987932682, -0.03516697883605957, -0.059160828590393066, -0.04688135161995888, -0.012059319764375687, -0.013900455087423325, -0.0307016484439373, -0.014258073642849922, -0.023770518600940704, 0.0513237901031971, -0.0018154546851292253, 0.015189135447144508, 0.030531473457813263, 0.018538406118750572, -0.0017433391185477376, 0.041385386139154434, -0.046774692833423615, 0.04245356470346451, 0.07632606476545334, -0.03042938932776451, 0.006021337583661079, -0.05671282485127449, -0.024402422830462456, -0.0018994262209162116, 0.005977364722639322, 0.07635333389043808, -0.02358360029757023, 0.033433668315410614, 0.015520317479968071, 0.015663759782910347, 0.016095692291855812, -0.030869483947753906, -0.0011925850994884968, 0.0750986859202385, -0.014818684197962284, -0.015148126520216465, -0.037131503224372864, -0.027570921927690506, -0.0238911435008049, 0.03598860278725624, -0.000755394110456109, 0.006171801593154669, -0.010069084353744984, -0.016937654465436935, 0.001523022772744298, -0.039529360830783844, -0.01902049221098423, -0.03661886975169182, 0.003675615880638361, 0.004101319704204798, -0.021349919959902763, -0.05258932337164879, -0.01593419350683689, 0.005363952834159136, -0.035335976630449295, -0.04890988767147064, -0.010232464410364628, -0.003797922283411026, -0.007552991155534983, -0.035024285316467285, -0.004059148486703634, -0.07978348433971405, -0.0555497370660305, -0.04394586756825447, -0.02593226544559002, -0.002594612305983901, -0.012229728512465954, 0.016530128195881844, -0.018060751259326935, -0.015406777150928974, 0.01953613944351673, -0.01519201323390007, 0.03038015589118004, -0.034285448491573334, -0.01642034761607647, -0.04883147031068802, 0.004067335277795792, -0.015215761959552765, 0.03310735896229744, 0.023546813055872917, -0.0007056415779516101, 0.036003462970256805, -0.01699497364461422, 0.018916528671979904, -0.01944422535598278, -0.03964748978614807, 0.01742320880293846, -0.0017274810234084725, -0.0787891373038292, -0.029656995087862015, 0.012282665818929672, -0.04641313850879669, 0.012113826349377632, -0.00012957984290551394, -0.010810966603457928, -0.01415008120238781, -0.025231683626770973, 0.010195625014603138, 0.030107369646430016, -0.03976648673415184, 0.006973511539399624, -0.027957310900092125, 0.01715940423309803, 0.013484287075698376, 0.04535913094878197, -0.010048720054328442, 0.007534232456237078, 0.030214481055736542, 0.024608122184872627, 0.04464469105005264, 0.017979642376303673, -0.02339206635951996, -0.003513891249895096, -0.006981432903558016, 0.004593761637806892, -0.047238871455192566, 0.001045079785399139, 0.01598542369902134, 0.020280014723539352, 0.020378747954964638, 0.04411442205309868, -0.017814503982663155, -0.005459480918943882, -0.0317239984869957, 0.01097704004496336, -0.09074294567108154, -0.026098214089870453, 0.034087810665369034, 0.0028799427673220634, -0.036106329411268234, -0.04286656901240349, -0.03472333773970604, -0.005174428690224886, -0.04285293072462082, -0.0232316292822361, 0.010639387182891369, 0.04235959053039551, 0.008066925220191479, 0.07113738358020782, -0.05020742118358612, 0.02652605064213276, -0.019669504836201668, 0.044445138424634933, -0.034856658428907394, -0.03202659264206886, -0.006807394791394472, 0.04616999253630638, -0.02892092429101467, 0.018126556649804115, -0.05556687340140343, 0.00956081971526146, -0.0011175735853612423, -0.023989349603652954, -0.0067537762224674225, 0.00687166303396225, -0.060086578130722046, 0.05252699926495552, -0.007003561593592167, 0.019730551168322563, -0.046405717730522156, 0.013880477286875248, 0.028623826801776886, -0.03630411624908447, -0.02130069211125374, -0.028831390663981438, 0.05713464319705963, -0.03437725454568863, 0.03330899402499199, 0.03171004727482796, 0.004876092076301575, -0.0020132751669734716, -0.012856646440923214, 0.009113775566220284, 0.03865605592727661, 0.007961086928844452, 0.012982040643692017, -0.015710482373833656, 0.048133645206689835, 0.007863449864089489, -0.031220998615026474, 0.020617501810193062, 0.05246303603053093, -0.020888159051537514, 0.021130701526999474, 0.05104625225067139, -0.0055435835383832455, 0.015837911516427994, -0.02706901729106903, -0.025032950565218925, 0.0026686585042625666, -0.02549118734896183, 0.02298111654818058, 0.008964736945927143, 0.011848214082419872, 0.02791758067905903, 0.004709354601800442, 0.02543962374329567, -0.01597846858203411, -0.023892739787697792, 0.0639692172408104, 0.03000006265938282, -0.0015162131749093533, -0.016389744356274605, 0.02643818035721779, 0.04530894011259079, 0.007154596038162708, 0.058555375784635544, 0.025072410702705383, 0.027402766048908234, -0.05523466691374779, 0.01295106578618288, -0.023044578731060028, -0.026369035243988037, 0.03252764418721199, -0.010179588571190834, -0.009530137293040752, -0.004000013694167137, 0.0012919323053210974, 0.015147199854254723, 0.026344845071434975, -0.03677981719374657, -0.0065996889024972916, -0.04710392653942108, 0.021649053320288658, -0.03526320308446884, -0.01645941101014614, 0.04571986198425293, 0.003867628052830696, 0.005042192991822958, 0.019049130380153656, -0.035452477633953094, 0.008866939693689346, 0.0275262463837862, 0.02577284350991249, -0.03381471708416939, 0.10362270474433899, -0.004985249135643244, 0.020906604826450348, -0.0058271195739507675, 0.0023526574950665236, -0.057276878505945206, -0.04156576097011566, -0.008205094374716282, -0.015367643907666206, 0.003866105107590556, -0.0051611242815852165, -0.028662173077464104, -0.005495213437825441, 0.025813467800617218, 0.03656953573226929, -0.029573841020464897, 0.030413104221224785, 0.02213173359632492, -0.033690985292196274, -0.014812820591032505, 0.04889097064733505, 0.03828566521406174, -0.023386303335428238, -0.032296307384967804, 0.0035505930427461863, -0.018643207848072052, 0.019643818959593773, -0.017731303349137306, 0.048505548387765884, -0.035693686455488205, -0.03215601295232773, -0.008160509169101715, -0.04592517018318176, 0.012155200354754925, 0.029666999354958534, -0.04909413680434227, -0.00880915392190218, 0.0377669632434845, 0.03027198649942875, -0.02771594561636448, 0.06893598288297653, -0.02336960658431053, 0.009833765216171741, 0.010260817594826221, 0.038234490901231766, 0.006246158853173256, 0.04169071093201637, -0.04109615832567215, 0.028270788490772247, 0.007985430769622326, -0.011194556020200253, -0.02935042418539524, 0.009916170500218868, -0.02444608323276043, -0.03684178367257118, -0.00835368875414133, -0.030311644077301025, -0.017629727721214294, 0.06373153626918793, 0.056766532361507416, -0.0011191383237019181, -0.06395396590232849, -0.0014773400034755468, -0.022660795599222183, -0.04047834128141403, -0.00343374558724463, -0.03031366690993309, 0.042910944670438766, -0.022749783471226692, -0.02709602192044258, 0.044826239347457886, -0.015185673721134663, 0.21814557909965515, 0.033113714307546616, 0.04498879238963127, -0.012707062996923923, 0.02816120535135269, 0.035377394407987595, 0.00933128036558628, -0.03036617673933506, 0.005246517714112997, -0.024010831490159035, -0.002000730251893401, 0.03251767158508301, 0.002924215281382203, 0.05960196256637573, 0.018074292689561844, 0.06237974762916565, -0.01676984503865242, -0.002084990032017231, 0.03282929211854935, -0.06035999208688736, -0.028554869815707207, 0.008860004134476185, -0.00831169355660677, 0.024217525497078896, -0.01383335329592228, -0.005784841254353523, 0.018634092062711716, -0.007090500555932522, -0.03408559784293175, -0.029999829828739166, -0.0039030867628753185, -0.05921988934278488, 0.04892292991280556, -0.026670297607779503, 0.007049093954265118, 0.0335419625043869, 0.005250964779406786, -0.020681152120232582, 0.024751076474785805, -0.04021596908569336, -0.014792256988584995, -0.028008289635181427, -0.010235634632408619, -0.02090415544807911, -0.035238150507211685, 0.03128775581717491, 0.02418229542672634, 0.0021559670567512512, 0.028219934552907944, -0.05711814761161804, 0.022371014580130577, -0.011903847567737103, 0.03499581292271614, -0.001977653708308935, -0.016528870910406113, 0.007622020784765482, -0.020217256620526314, -0.032121021300554276, 0.004558751359581947, 0.006652568932622671, 0.0032661487348377705, 0.012751701287925243, -0.019948197528719902, 0.021580945700407028, 0.01298212818801403, 0.013300484977662563, 0.0016749609494581819, 0.04299049451947212, 0.022392719984054565, 0.0059440284967422485, 0.01444821897894144, 0.026508504524827003, -0.034740250557661057, 0.007504508830606937, -0.015095250681042671, 0.023877499625086784, 0.033310506492853165, 0.00028690643375739455, 0.05049668997526169, -0.011199499480426311, -0.020335188135504723, 0.0065997811034321785, 0.0122427549213171, -0.04119372367858887, 0.05577564984560013, 0.05214102193713188, -0.021357230842113495, -0.04139162227511406, -0.030035600066184998, 0.033750202506780624, 0.05642951279878616, 0.030875472351908684, 0.003846491686999798, 0.0061759985983371735, -0.0015080083394423127], 'CreatedAt': '2024-05-08 03:04:04', 'Acknowledged': '0', 'Remedy': 'Monitor network traffic closely', 'Severity': 'Severe', 'Source': 'Hardware', 'node': 'a4a18bf2-44fd-4a87-a7f7-89fbce94dcfb', 'Category': 'Network'}),\n",
              "  Document(page_content='A Severe alert of category Network was raised from the Hardware source for node a4a18bf2-44fd-4a87-a7f7-89fbce94dcfb at 2024-05-08 03:01:48. The alert is Not Acknowledged. The recommended remedy is: Monitor network traffic closely.', metadata={'_id': ObjectId('663a9dc687000b6df1a4cb99'), 'embedding': [-0.00188276672270149, 0.015443770214915276, -0.0376877561211586, 0.06707801669836044, 0.022301966324448586, -0.015530897304415703, 0.029161041602492332, -0.029394719749689102, 0.013516460545361042, 0.06669879704713821, 0.021814517676830292, -0.039252638816833496, 0.026695946231484413, -0.017531542107462883, -0.04190849885344505, -0.021899191662669182, -0.008641356602311134, -0.020340777933597565, 0.022205807268619537, 0.016762517392635345, 0.04716794937849045, 0.034133028239011765, -0.06281546503305435, -0.019791536033153534, -0.07145806401968002, 0.02328469417989254, -0.023618998005986214, -0.005188552662730217, 0.05349325016140938, 0.07941315323114395, -0.010630889795720577, -0.06558728218078613, 0.007300835568457842, -0.017569130286574364, -0.02548859268426895, -0.03746691346168518, 0.021972548216581345, -0.02852391079068184, -0.024129826575517654, -0.06292127072811127, -0.01666112430393696, -0.001120133907534182, 0.043198663741350174, -0.06450840085744858, 0.014693673700094223, -0.01097110565751791, 0.019312238320708275, 0.024258103221654892, 0.036831893026828766, -0.0186875369399786, -0.014806522987782955, 0.03801226615905762, -0.007527752313762903, -0.024538196623325348, 0.002193415304645896, -0.015729563310742378, -0.010066317394375801, -0.0008035365026444197, -0.02089923620223999, -0.02187533862888813, 0.011264878325164318, -0.021389765664935112, 0.01706005074083805, -0.027369752526283264, 0.017857694998383522, 0.016583096235990524, -0.032932430505752563, 0.03079790435731411, -0.054133977741003036, -0.005746231880038977, -0.030158134177327156, 0.05299680307507515, -0.04104774445295334, -0.04284439980983734, -0.042974043637514114, 0.020784327760338783, -0.014699580147862434, 0.011506705544888973, 0.010783168487250805, 0.031351298093795776, -0.010552952997386456, 0.019155528396368027, 0.018591050058603287, -0.020576532930135727, -0.017440663650631905, -0.01781471073627472, 0.028460565954446793, 0.011546610854566097, -0.031696055084466934, -0.01379313599318266, 0.032569434493780136, 0.016978373751044273, -0.0013333188835531473, -0.01958317682147026, 0.03774210065603256, 0.0354611873626709, -0.0010602163383737206, 0.06457782536745071, -0.01108636800199747, -0.009565391577780247, 0.01992735080420971, 0.05941922962665558, -0.0077387988567352295, 0.033057477325201035, -0.0477982722222805, 0.020906904712319374, 0.07097305357456207, -0.014843186363577843, -0.012539359740912914, -0.02999437041580677, 2.0569348635035567e-05, 0.011457659304141998, -0.024633336812257767, -0.015554570592939854, -0.009731125086545944, 0.02765452302992344, -0.017810333520174026, -0.017987338826060295, -0.011093893088400364, -0.0021883645094931126, 0.030059294775128365, -0.0210531335324049, 0.030487822368741035, -0.03027825616300106, -0.014738021418452263, -0.024376273155212402, 0.034960705786943436, 0.03998132422566414, -0.04071668162941933, -0.003048379672691226, -0.035955965518951416, -0.008893828839063644, 0.0101977763697505, 0.02863457053899765, 0.026510128751397133, -0.01548342127352953, 0.04175565391778946, -0.0005005805287510157, 0.03852782025933266, -0.024034904316067696, 0.0018118692096322775, -0.005823759827762842, -0.020586581900715828, 0.09860343486070633, -0.018763376399874687, 0.030276669189333916, 0.006556782405823469, 0.01588713750243187, -0.06887340545654297, 0.000889337039552629, -0.0007832698174752295, 0.026067985221743584, -0.016641827300190926, 0.03732087463140488, -0.005749099422246218, 0.008122866973280907, -0.013217415660619736, -0.009964722208678722, 0.016828691586852074, 0.018561024218797684, 0.014948936179280281, 0.05024663358926773, -0.011750079691410065, 0.04407293349504471, -0.049432530999183655, 0.02295282669365406, -0.02192433923482895, -0.03899942710995674, -0.017201021313667297, -0.023236528038978577, 0.029203560203313828, 0.029523750767111778, -0.041049398481845856, 0.04565300792455673, 0.04868226870894432, -0.01927032507956028, 0.041776757687330246, -0.003466049674898386, 0.008831583894789219, 0.024114293977618217, 0.02106255106627941, -0.002052664291113615, 0.039206065237522125, 0.042681384831666946, 0.03670351579785347, 0.025464946404099464, 0.04501350596547127, -0.06691178679466248, -0.04460404813289642, -0.016206342726945877, 0.00948213879019022, 0.03293756768107414, 0.014007178135216236, 0.04775019735097885, -0.014075979590415955, -0.014103386551141739, -0.0273725725710392, -0.023612095043063164, 0.05802195146679878, -0.050106681883335114, 0.014163759537041187, 0.03221488371491432, -0.0398026704788208, 0.04703500121831894, -0.02493095211684704, -0.044772181659936905, 0.020743712782859802, 0.044215619564056396, 0.004573432728648186, -0.0184465479105711, 0.024329563602805138, 0.007690229453146458, -0.017806636169552803, 0.008578107692301273, 0.026892151683568954, -0.005398527719080448, -0.008410709910094738, 0.05443719029426575, 0.04760504886507988, 0.003276669420301914, -0.016174210235476494, 0.05019798129796982, 0.02952801249921322, 0.04232902079820633, -0.016596246510744095, -0.05520534887909889, -0.011961710639297962, 0.001401726040057838, 0.00968031957745552, 0.002323912223801017, -0.02390957437455654, 0.03344310447573662, -0.03069639578461647, 0.06852110475301743, 0.03604946285486221, -0.006987580098211765, 0.05546962469816208, 0.026621142402291298, 0.013627273961901665, 0.019183944910764694, -0.0008061676053330302, 0.034378599375486374, 0.02058304101228714, 0.0025929429102689028, 0.008498978801071644, 0.003305367659777403, 0.037282027304172516, -0.022114668041467667, -0.07814083248376846, -0.0269287321716547, 0.00534291984513402, 0.03673495724797249, 0.04440338537096977, 0.006264914758503437, -0.04728833585977554, 0.003342845244333148, 4.897213511867449e-05, 0.07409089803695679, -0.009330145083367825, -0.012053498066961765, -0.0022774452809244394, -0.021383320912718773, 0.011065139435231686, -0.00023029129079077393, 0.015604067593812943, 0.03548504039645195, 0.015941793099045753, 0.04041212797164917, -0.016060005873441696, -0.046021364629268646, -0.0595930851995945, -0.023312993347644806, -0.037243615835905075, -0.010334774851799011, -0.061363231390714645, 0.01629657857120037, 0.007855856791138649, -0.04377059265971184, 0.08104941248893738, -0.013257922604680061, -0.00036836511571891606, 0.05909177288413048, -0.020331162959337234, 0.03863801062107086, -0.030709009617567062, 0.0010227423626929522, -0.04289978742599487, -0.021195847541093826, 0.0005072125350125134, 0.044009607285261154, -0.04933200031518936, -0.033316221088171005, -0.027308190241456032, -0.020670853555202484, 0.04204413667321205, -0.009632236324250698, -0.010137336328625679, -0.021686550229787827, -0.026569509878754616, -0.03491915762424469, -0.028138745576143265, -0.010854646563529968, -0.005362304393202066, -0.03307385370135307, -0.012987550348043442, 0.018387718126177788, 0.023074712604284286, -0.037797123193740845, 0.04100752994418144, 0.051289718598127365, -0.020270735025405884, 0.04251275584101677, 0.0020341353956609964, -0.013034283183515072, -0.017890121787786484, 0.05407673865556717, 0.026028942316770554, 0.022624652832746506, -0.019326673820614815, -0.03211541101336479, 0.003912617918103933, -0.009370063431560993, -0.005177794024348259, -0.033681031316518784, -0.014464978128671646, 0.025239204987883568, 0.015849580988287926, -0.049471043050289154, 0.05780059099197388, -0.0639427900314331, -0.029910001903772354, -0.012302880175411701, -0.038706328719854355, 0.04404446482658386, 0.043407730758190155, 0.06518103182315826, -0.013535783626139164, -0.007518273778259754, -0.01325144898146391, 0.024390093982219696, 0.020988743752241135, -0.021606426686048508, -0.009141087532043457, 0.053044285625219345, -0.02294701710343361, 0.0007883213111199439, 0.005220883525907993, 0.008406237699091434, 0.0061263032257556915, -0.004603590350598097, -0.039549555629491806, 0.026209643110632896, -0.015131193213164806, 0.005542591214179993, 0.026377839967608452, 0.04360293224453926, -0.003944776486605406, 0.01832364872097969, 0.0104369493201375, 0.029588041827082634, 0.002132295398041606, -0.022869529202580452, -0.00972849689424038, 0.0090834591537714, -0.005260190926492214, -0.03239252790808678, -0.006287470925599337, 0.017747463658452034, 0.032611362636089325, -0.025286506861448288, 0.006175380665808916, -0.0006140847690403461, -0.004441086668521166, -0.019786708056926727, -0.02553187496960163, 0.014070183038711548, 0.01685553416609764, -0.050002571195364, 0.05222697556018829, -0.04636923596262932, 0.011983200907707214, 0.011381509713828564, 0.045944247394800186, 0.03845036029815674, -0.005079225637018681, 0.009595575742423534, -0.033917780965566635, 0.027113227173686028, -0.0024164586793631315, -0.0069089485332369804, 0.015550348907709122, -0.03594571352005005, 0.002316821366548538, -0.000944228726439178, -0.02763616479933262, -0.07320965081453323, -0.007081259042024612, 0.03785170987248421, 0.012161286547780037, 0.015422696247696877, 0.03795282915234566, -0.02542918734252453, 0.016408635303378105, 0.018103960901498795, -0.024268746376037598, 0.02484087087213993, -0.04032338038086891, 0.014852547086775303, 0.01005026139318943, 0.008586016483604908, -0.029318438842892647, -0.006708759814500809, 0.026577800512313843, -0.010801009833812714, -0.005904751364141703, -0.03961636871099472, -0.0519116036593914, 0.021765610203146935, 0.02931639552116394, -0.004503648728132248, 0.004002781584858894, -0.04292413964867592, -0.020207345485687256, 0.025362282991409302, 0.0031049582175910473, -0.05922906473278999, 0.01607227325439453, -0.05473671108484268, 0.017894145101308823, 0.03816554322838783, -0.025219380855560303, -0.02130318433046341, 0.002248054835945368, -0.041216909885406494, -0.022386711090803146, 0.0385403111577034, 0.0587126724421978, -0.043729402124881744, -0.017659557983279228, -0.04083207994699478, 0.02529013343155384, 0.021756909787654877, 0.01962677203118801, -0.046376682817935944, 0.004613184370100498, -0.02754986099898815, 0.028646670281887054, -0.0015378310345113277, 0.003202912164852023, -0.010800824500620365, 0.02520374208688736, -0.028544774278998375, 0.02746386080980301, -0.05685465782880783, -0.020723406225442886, -0.005296739749610424, 0.02222311496734619, -0.007469372823834419, 0.0451936274766922, -0.010610316880047321, -0.002046906854957342, -0.02150280773639679, 0.007781093940138817, -0.0015190464910119772, -0.04022485762834549, 0.030043158680200577, -0.00930183008313179, 0.012191562913358212, 0.014679651707410812, -0.018521534278988838, -0.025209078565239906, 0.04339632764458656, -0.011875340715050697, -0.007966689765453339, 0.0434078611433506, -0.006740391254425049, 0.028561661019921303, 0.022291995584964752, -0.014628931879997253, 0.004588398151099682, -0.048573754727840424, 0.051857877522706985, 0.023386450484395027, -0.03905759006738663, -0.025964844971895218, -0.00805429182946682, 0.03307188302278519, 0.011063924990594387, -0.026115532964468002, 0.056909799575805664, 0.025424763560295105, 0.04962460696697235, -0.03626074269413948, 0.01969563215970993, -0.04141579568386078, 0.01578267104923725, -0.03179905191063881, -0.010138343088328838, 0.04444938898086548, 0.022837739437818527, 0.06817605346441269, -0.06213639676570892, -0.046970173716545105, 0.0002372037124587223, 0.00695456750690937, -0.016609851270914078, -0.0699259415268898, 0.047086384147405624, 0.005355053581297398, 0.010448579676449299, -0.025887979194521904, 0.009871313348412514, -0.019977036863565445, -0.026163354516029358, 0.006426856853067875, 0.01200250443071127, -0.0038761196192353964, -0.01943867653608322, -0.028463073074817657, 0.002826146548613906, 0.04236137494444847, -0.038014210760593414, -0.01974397338926792, 0.02269754558801651, -0.010650349780917168, 0.01986721344292164, 0.012808137573301792, -0.06216954439878464, -0.014408625662326813, -0.017511336132884026, 0.0021536850836127996, -0.03981655091047287, 0.02505534514784813, 0.01856083795428276, -0.0006599753978662193, -0.011237695813179016, 0.04529163986444473, 0.014982066117227077, 0.018674274906516075, 0.019105954095721245, -0.04052990674972534, 0.017507730051875114, -0.034021832048892975, -0.027658339589834213, -0.0159840639680624, -0.01294480636715889, -0.024422453716397285, 0.03326042369008064, -0.00010523054515942931, -0.0241871178150177, -0.04131085053086281, 0.004071682225912809, 0.017539402469992638, 0.004473570268601179, -0.04325340315699577, -0.061743248254060745, 0.004705148283392191, 0.023753266781568527, -0.032975003123283386, 0.018750596791505814, -0.05480558052659035, 0.034372974187135696, -0.021167932078242302, 0.020190367475152016, -0.009839038364589214, -0.014136194251477718, -0.017903022468090057, 0.005381851922720671, 0.061016637831926346, -0.0627327486872673, 0.0011657917639240623, 0.023764077574014664, 0.007944639772176743, -0.001938978093676269, 0.018335886299610138, -0.03475049510598183, -0.035743359476327896, -0.04043947532773018, -0.06551557034254074, 0.008993093855679035, -0.01804710365831852, -0.03666248917579651, -0.00177079311106354, -0.00346604292280972, -0.009189773350954056, -0.028208507224917412, 0.03462700918316841, 0.030345618724822998, -0.010590100660920143, -0.008985917083919048, -0.016826823353767395, 0.01876654475927353, 0.027787815779447556, -0.020578233525156975, -0.008044419810175896, 0.004687295760959387, -0.05449794977903366, -0.043616004288196564, -0.027613623067736626, -0.04162566363811493, -0.030717696994543076, -0.023691724985837936, 0.041550710797309875, -0.052450112998485565, 0.052080392837524414, -0.03603142499923706, -0.017404627054929733, -0.030737297609448433, 0.04115281254053116, 0.0007072182488627732, 0.013408367522060871, 0.03936474770307541, 0.024046646431088448, 0.008069760166108608, 0.06005018204450607, -0.01046500913798809, -0.005520437378436327, -0.007707459852099419, 0.003312715794891119, -0.013651980087161064, -0.01828203722834587, 0.018381448462605476, 0.022227799519896507, -0.03530111908912659, -0.059020426124334335, -0.04682980477809906, -0.012299100868403912, -0.013751626014709473, -0.030555136501789093, -0.0139266112819314, -0.024017561227083206, 0.05119236558675766, -0.0022825426422059536, 0.014936814084649086, 0.029330091550946236, 0.018566710874438286, -0.0009558767778798938, 0.0415777787566185, -0.04739921912550926, 0.04301023110747337, 0.076163150370121, -0.030601486563682556, 0.006914564874023199, -0.05672726780176163, -0.02465435490012169, -0.0024148381780833006, 0.006103725638240576, 0.07672301679849625, -0.024078823626041412, 0.03326704353094101, 0.01584511250257492, 0.0157113466411829, 0.01579463854432106, -0.030788641422986984, -0.001802160870283842, 0.07525426149368286, -0.014858531765639782, -0.015597420744597912, -0.03661723807454109, -0.027738917618989944, -0.023227449506521225, 0.03558929264545441, -0.0004339572915341705, 0.0059889634139835835, -0.01005924679338932, -0.016735754907131195, 0.002209182595834136, -0.039844609797000885, -0.01877133920788765, -0.03638685122132301, 0.0032196268439292908, 0.0038999917451292276, -0.021007345989346504, -0.052474018186330795, -0.016150647774338722, 0.005678347311913967, -0.03586367890238762, -0.048791974782943726, -0.010335342958569527, -0.003392508951947093, -0.007562226615846157, -0.03516286611557007, -0.004058252554386854, -0.07952266186475754, -0.05538051947951317, -0.04361485317349434, -0.025378013029694557, -0.0026368096005171537, -0.01219517644494772, 0.016408618539571762, -0.017674580216407776, -0.015440493822097778, 0.019459892064332962, -0.015762662515044212, 0.030760344117879868, -0.03485623747110367, -0.016799647361040115, -0.04941437765955925, 0.0031618548091500998, -0.014917667023837566, 0.03300759941339493, 0.024384576827287674, -0.0014792955480515957, 0.03536028042435646, -0.016806481406092644, 0.018724748864769936, -0.019109847024083138, -0.039605189114809036, 0.01799987629055977, -0.002361840568482876, -0.0785311833024025, -0.02943180501461029, 0.01208431739360094, -0.04657132923603058, 0.011972975917160511, 0.0007109987200237811, -0.011035151779651642, -0.014097895473241806, -0.024740952998399734, 0.010886166244745255, 0.030028223991394043, -0.03947798162698746, 0.006729521788656712, -0.028192073106765747, 0.016742683947086334, 0.01359428372234106, 0.0455174520611763, -0.00991175975650549, 0.007851446978747845, 0.029852651059627533, 0.02513272501528263, 0.043756697326898575, 0.017756395041942596, -0.02374080941081047, -0.003008174942806363, -0.006556190084666014, 0.004112307447940111, -0.047304168343544006, 0.0017066862201318145, 0.01597466878592968, 0.02045564167201519, 0.019940055906772614, 0.04390740022063255, -0.018178533762693405, -0.005488032009452581, -0.03223559632897377, 0.010863812640309334, -0.0914669930934906, -0.02599596045911312, 0.03401252627372742, 0.002689272863790393, -0.0362563394010067, -0.04321713000535965, -0.03478918597102165, -0.004803142976015806, -0.04343904182314873, -0.023195208981633186, 0.010321790352463722, 0.04218800738453865, 0.007904985919594765, 0.07082413882017136, -0.05001191422343254, 0.026628762483596802, -0.02047082409262657, 0.0439150296151638, -0.034188661724328995, -0.0315605029463768, -0.006539866328239441, 0.04673128202557564, -0.029154008254408836, 0.018090730533003807, -0.05569467693567276, 0.00938207283616066, -0.000743990414775908, -0.023987485095858574, -0.006959466729313135, 0.007042366545647383, -0.06061307340860367, 0.05204334110021591, -0.007117005530744791, 0.019782235845923424, -0.04663610830903053, 0.013812663033604622, 0.029439598321914673, -0.03595046326518059, -0.021155089139938354, -0.028997614979743958, 0.05677409470081329, -0.03442564979195595, 0.03298504650592804, 0.03147302195429802, 0.005289807450026274, -0.002590582938864827, -0.012750000692903996, 0.009479109197854996, 0.03782426938414574, 0.008307431824505329, 0.012517882511019707, -0.015539735555648804, 0.04837463051080704, 0.007750168442726135, -0.030892400071024895, 0.020849287509918213, 0.052095524966716766, -0.020230064168572426, 0.020300697535276413, 0.051238764077425, -0.005118184722959995, 0.015164617449045181, -0.026647990569472313, -0.0249821487814188, 0.0027455564122647047, -0.02492053434252739, 0.022696832194924355, 0.009411193430423737, 0.012156208977103233, 0.027720218524336815, 0.004727341700345278, 0.025186773389577866, -0.01558076310902834, -0.023703506216406822, 0.06341168284416199, 0.0302493367344141, -0.0015736736822873354, -0.016392258927226067, 0.026449361816048622, 0.04561040550470352, 0.006788728758692741, 0.05888070911169052, 0.024994662031531334, 0.027353201061487198, -0.054787442088127136, 0.013102871365845203, -0.023534655570983887, -0.02689710445702076, 0.03239084780216217, -0.01012049987912178, -0.009068910032510757, -0.004061471670866013, 0.0014703011838719249, 0.014288036152720451, 0.02653622068464756, -0.03671502321958542, -0.006781155709177256, -0.046891700476408005, 0.021692225709557533, -0.034868840128183365, -0.01629405841231346, 0.0455702543258667, 0.004428099375218153, 0.004993469920009375, 0.01880669966340065, -0.03516314923763275, 0.009209449402987957, 0.02739337831735611, 0.025378674268722534, -0.03325942903757095, 0.10421906411647797, -0.00528236199170351, 0.020812520757317543, -0.005869557149708271, 0.002014743397012353, -0.05732976272702217, -0.04176546260714531, -0.008077345788478851, -0.01591651886701584, 0.0046010203659534454, -0.0049334862269461155, -0.027956107631325722, -0.006117111071944237, 0.026592183858156204, 0.036288462579250336, -0.03031955473124981, 0.03001566417515278, 0.022194480523467064, -0.03418803960084915, -0.01440507173538208, 0.048511896282434464, 0.037657495588064194, -0.02276875637471676, -0.032468486577272415, 0.003591826418414712, -0.018124911934137344, 0.02027108520269394, -0.017240729182958603, 0.04807514324784279, -0.036147601902484894, -0.032564468681812286, -0.007970373146235943, -0.045623041689395905, 0.01248107012361288, 0.029315846040844917, -0.04913748428225517, -0.009000596590340137, 0.03735044226050377, 0.029811706393957138, -0.028158938512206078, 0.06860838830471039, -0.02287403680384159, 0.009659490548074245, 0.010593011043965816, 0.038428544998168945, 0.006843129172921181, 0.04220985993742943, -0.04108189046382904, 0.028283271938562393, 0.00821379479020834, -0.011612785048782825, -0.028461206704378128, 0.010622984729707241, -0.024214204400777817, -0.037111930549144745, -0.008108568377792835, -0.03011411987245083, -0.017989343032240868, 0.06310365349054337, 0.05717513710260391, -0.0017224809853360057, -0.06410729140043259, -0.0015046604676172137, -0.023821057751774788, -0.0402953214943409, -0.0034997460898011923, -0.030188297852873802, 0.04287635162472725, -0.02258477546274662, -0.027031319215893745, 0.045191798359155655, -0.015149601735174656, 0.21847593784332275, 0.032989781349897385, 0.045246243476867676, -0.012289467267692089, 0.028188470751047134, 0.035827938467264175, 0.009527474641799927, -0.030008964240550995, 0.004885179456323385, -0.023201340809464455, -0.0024879020638763905, 0.03225693851709366, 0.0031096581369638443, 0.05948204919695854, 0.01827211305499077, 0.06186789646744728, -0.01645081676542759, -0.0016112058656290174, 0.03295181319117546, -0.05984275043010712, -0.028337055817246437, 0.00872349925339222, -0.007971765473484993, 0.024501683190464973, -0.014576922170817852, -0.006026891525834799, 0.019223127514123917, -0.007473944686353207, -0.034064892679452896, -0.030452677980065346, -0.004396109841763973, -0.058936942368745804, 0.04963565990328789, -0.027100220322608948, 0.00745916273444891, 0.03389705717563629, 0.005522657185792923, -0.020578043535351753, 0.024570364505052567, -0.039691291749477386, -0.015076485462486744, -0.028451716527342796, -0.010644148103892803, -0.020808637142181396, -0.03533514216542244, 0.030886827036738396, 0.024305464699864388, 0.0018451176583766937, 0.027652965858578682, -0.057150863111019135, 0.02188398502767086, -0.012153293006122112, 0.03559775650501251, -0.0015969885280355811, -0.01616082526743412, 0.008055775426328182, -0.02109251730144024, -0.03185699135065079, 0.0050433846190571785, 0.007412363775074482, 0.0029846401885151863, 0.013428077101707458, -0.02003558725118637, 0.021019749343395233, 0.012958689592778683, 0.013045867905020714, 0.002011667238548398, 0.043703749775886536, 0.022718509659171104, 0.006803017575293779, 0.01451301109045744, 0.02689543180167675, -0.03480888903141022, 0.007183335721492767, -0.01515639666467905, 0.023715505376458168, 0.033055439591407776, 0.0007308333879336715, 0.05073937401175499, -0.011294033378362656, -0.02029958739876747, 0.006825750693678856, 0.012565803714096546, -0.04138955473899841, 0.05530910938978195, 0.052449725568294525, -0.02210603654384613, -0.041621241718530655, -0.02995634637773037, 0.03355634585022926, 0.056299418210983276, 0.03049510531127453, 0.004678807221353054, 0.005887026432901621, -0.0018322034738957882], 'Severity': 'Severe', 'Source': 'Hardware', 'node': 'a4a18bf2-44fd-4a87-a7f7-89fbce94dcfb', 'Category': 'Network', 'CreatedAt': '2024-05-08 03:01:48', 'Acknowledged': '0', 'Remedy': 'Monitor network traffic closely'})],\n",
              " 'answer': 'Certainly! The remedy provided is to \"monitor network traffic closely.\" This recommendation is typically given when there are issues or potential issues related to the network connectivity or performance of a system or device.\\n\\nMonitoring network traffic involves observing and analyzing the data packets being transmitted and received over the network. By closely monitoring network traffic, you can gain insights into various aspects of the network\\'s behavior, such as:\\n\\n1. Bandwidth utilization: Measuring the amount of data being transmitted and received over the network, which can help identify potential bottlenecks or capacity issues.\\n2. Traffic patterns: Analyzing the types of data being transmitted and received, as well as the sources and destinations of the traffic, can help identify unusual or suspicious activity.\\n3. Network latency: Measuring the time it takes for data packets to travel from one point to another in the network can help identify potential performance issues or network congestion.\\n4. Error rates: Tracking the number of errors, such as packet loss or corruption, can help identify potential issues with the network infrastructure or configuration.\\n\\nBy closely monitoring network traffic, you can proactively detect and address issues before they escalate into more significant problems. This can help maintain the availability, performance, and security of the network and the systems and devices connected to it.\\n\\nIn the context of the Alertmanager alerts you provided, monitoring network traffic closely can help identify the root cause of the network issues on the affected node (a4a18bf2-44fd-4a87-a7f7-89fbce94dcfb) and guide the necessary troubleshooting and resolution steps.'}"
            ]
          },
          "metadata": {},
          "execution_count": 8
        }
      ]
    },
    {
      "cell_type": "code",
      "source": [
        "!wget -q -O - ipv4.icanhazip.com"
      ],
      "metadata": {
        "id": "n6Xb2B4WuqRF",
        "outputId": "6c685b13-495f-4c57-ac1b-c57e44412b0f",
        "colab": {
          "base_uri": "https://localhost:8080/"
        }
      },
      "execution_count": 9,
      "outputs": [
        {
          "output_type": "stream",
          "name": "stdout",
          "text": [
            "35.245.110.99\n"
          ]
        }
      ]
    },
    {
      "cell_type": "markdown",
      "source": [
        "# **Query Bot**"
      ],
      "metadata": {
        "id": "edLF1PySBWxV"
      }
    },
    {
      "cell_type": "code",
      "source": [
        "%%writefile app.py\n",
        "import streamlit as st\n",
        "import os\n",
        "import time\n",
        "from collections.abc import Collection\n",
        "from langchain.memory import ChatMessageHistory\n",
        "from langchain_community.chat_message_histories import (\n",
        "    StreamlitChatMessageHistory,\n",
        ")\n",
        "from langchain_groq import ChatGroq\n",
        "from langchain_core.prompts import ChatPromptTemplate, MessagesPlaceholder\n",
        "from langchain_community.vectorstores import MongoDBAtlasVectorSearch\n",
        "from langchain_community.embeddings import HuggingFaceEmbeddings\n",
        "from langchain.chains import create_history_aware_retriever, create_retrieval_chain\n",
        "from langchain.chains.combine_documents import create_stuff_documents_chain\n",
        "from langchain.output_parsers import ResponseSchema, StructuredOutputParser\n",
        "from langchain_core.runnables.history import RunnableWithMessageHistory\n",
        "from langchain_core.chat_history import BaseChatMessageHistory\n",
        "from langchain.chains import RetrievalQA\n",
        "import nest_asyncio\n",
        "nest_asyncio.apply()\n",
        "\n",
        "st.title('ASMR Query Bot 🔔')\n",
        "\n",
        "# config\n",
        "database = \"AlertSimAndRemediation\"\n",
        "collection = \"alert_embed\"\n",
        "index_name = \"alert_index\"\n",
        "\n",
        "# llm\n",
        "# temp = 0.0\n",
        "# model_name = \"mixtral-8x7b-32768\"\n",
        "# chat = ChatGroq(temperature=temp, model_name=model_name)\n",
        "\n",
        "# embedding model\n",
        "embedding_args = {\n",
        "    \"model_name\" : \"BAAI/bge-large-en-v1.5\",\n",
        "    \"model_kwargs\" : {\"device\": \"cpu\"},\n",
        "    \"encode_kwargs\" : {\"normalize_embeddings\": True}\n",
        "}\n",
        "embedding_model = HuggingFaceEmbeddings(**embedding_args)\n",
        "\n",
        "# chat history\n",
        "# chat_history = ChatMessageHistory()\n",
        "\n",
        "# vector search\n",
        "vector_search = MongoDBAtlasVectorSearch.from_connection_string(\n",
        "    os.environ[\"MONGO_URI\"],\n",
        "    f\"{database}.{collection}\",\n",
        "    embedding_model,\n",
        "    index_name=index_name,\n",
        ")\n",
        "\n",
        "# retriever\n",
        "# k = 2\n",
        "# qa_retriever = vector_search.as_retriever(\n",
        "#     search_type=\"similarity\",\n",
        "#     search_kwargs={\"k\": k},\n",
        "# )\n",
        "\n",
        "# contextualising prev chats\n",
        "contextualize_q_system_prompt = \"\"\"Given a chat history and the latest user question \\\n",
        "which might reference context in the chat history, formulate a standalone question \\\n",
        "which can be understood without the chat history. Do NOT answer the question, \\\n",
        "just reformulate it if needed and otherwise return it as is.\"\"\"\n",
        "contextualize_q_prompt = ChatPromptTemplate.from_messages(\n",
        "    [\n",
        "        (\"system\", contextualize_q_system_prompt),\n",
        "        MessagesPlaceholder(\"chat_history\"),\n",
        "        (\"human\", \"{input}\"),\n",
        "    ]\n",
        ")\n",
        "# history_aware_retriever = create_history_aware_retriever(\n",
        "#     chat, qa_retriever, contextualize_q_prompt\n",
        "# )\n",
        "\n",
        "# prompt\n",
        "system_prompt = \"\"\"\n",
        "You are a helpful query assistant for Alertmanager, an open-source system for monitoring and alerting on system metrics. Your goal is to accurately answer questions related to alerts triggered within the Alertmanager system based on the alert information provided to you. \\\n",
        "You will be given details about specific alerts, including the alert source, severity, category, and any other relevant metadata. Using this information, you should be able to respond to queries about the nature of the alert, what it signifies, potential causes, and recommended actions or troubleshooting steps. \\\n",
        "Your responses should be clear, concise, and tailored to the specific alert details provided, while also drawing from your broader knowledge about Alertmanager and monitoring best practices when relevant. If you cannot provide a satisfactory answer due to insufficient information, politely indicate that and ask for any additional context needed. \\\n",
        "\n",
        "<context>\n",
        "{context}\n",
        "</context>\n",
        "\"\"\"\n",
        "\n",
        "qa_prompt = ChatPromptTemplate.from_messages(\n",
        "    [\n",
        "        (\"system\", system_prompt),\n",
        "        MessagesPlaceholder(\"chat_history\"),\n",
        "        (\"human\", \"{input}\"),\n",
        "    ]\n",
        ")\n",
        "# question_answer_chain = create_stuff_documents_chain(chat, qa_prompt)\n",
        "\n",
        "# rag_chain = create_retrieval_chain(history_aware_retriever, question_answer_chain)\n",
        "\n",
        "# conversational_rag_chain = RunnableWithMessageHistory(\n",
        "#     rag_chain,\n",
        "#     lambda session_id: history,\n",
        "#     input_messages_key=\"input\",\n",
        "#     history_messages_key=\"chat_history\",\n",
        "#     output_messages_key=\"answer\",\n",
        "# )\n",
        "\n",
        "if \"chat_messages\" not in st.session_state:\n",
        "    st.session_state.chat_messages = []\n",
        "\n",
        "# streamlit history\n",
        "history = StreamlitChatMessageHistory(key=\"chat_messages\")\n",
        "\n",
        "# Initialize chat history\n",
        "if len(history.messages) == 0:\n",
        "    history.add_ai_message(\"Hey I am ASMR Query Bot, how can i help you ?\")\n",
        "\n",
        "with st.sidebar:\n",
        "    st.title('Settings ⚙️')\n",
        "\n",
        "    st.subheader('Models and parameters')\n",
        "    selected_model = st.sidebar.selectbox('Choose a model', ['Llama3-8B', 'Llama3-70B', 'Mixtral-8x7B'], key='selected_model')\n",
        "    if selected_model == 'Mixtral-8x7B':\n",
        "        model_name=\"mixtral-8x7b-32768\"\n",
        "    elif selected_model == 'Llama3-70B':\n",
        "        model_name='Llama3-70b-8192'\n",
        "    elif selected_model == 'Llama3-8B':\n",
        "        model_name='Llama3-8b-8192'\n",
        "\n",
        "    temp = st.sidebar.slider('temperature', min_value=0.01, max_value=1.0, value=0.0, step=0.01)\n",
        "    k = st.sidebar.slider('number of docs retrieved', min_value=1, max_value=20, value=2, step=1)\n",
        "\n",
        "def get_response(query, config):\n",
        "  chat = ChatGroq(temperature=temp, model_name=model_name)\n",
        "  qa_retriever = vector_search.as_retriever(\n",
        "      search_type=\"similarity\",\n",
        "      search_kwargs={\"k\": k},\n",
        "  )\n",
        "  history_aware_retriever = create_history_aware_retriever(\n",
        "      chat, qa_retriever, contextualize_q_prompt\n",
        "  )\n",
        "  question_answer_chain = create_stuff_documents_chain(chat, qa_prompt)\n",
        "  rag_chain = create_retrieval_chain(history_aware_retriever, question_answer_chain)\n",
        "  conversational_rag_chain = RunnableWithMessageHistory(\n",
        "      rag_chain,\n",
        "      lambda session_id: history,\n",
        "      input_messages_key=\"input\",\n",
        "      history_messages_key=\"chat_history\",\n",
        "      output_messages_key=\"answer\",\n",
        "  )\n",
        "  return conversational_rag_chain.invoke({\"input\": prompt}, config=config)\n",
        "\n",
        "\n",
        "def clear_chat_history():\n",
        "    st.session_state.chat_messages = []\n",
        "    history.add_ai_message(\"Hey I am ASMR Query Bot, how can i help you ?\")\n",
        "\n",
        "st.sidebar.button('Clear Chat History', on_click=clear_chat_history)\n",
        "\n",
        "for msg in history.messages:\n",
        "    st.chat_message(msg.type).write(msg.content)\n",
        "\n",
        "\n",
        "# preprocessing context\n",
        "def format_docs_with_metadata(docs):\n",
        "    formatted_docs = []\n",
        "    for i, doc in enumerate(docs, start=1):\n",
        "        metadata_str = \"\\n\".join([f\"**{key}**: `{value}`\\n\" for key, value in doc.metadata.items() if key != \"embedding\"])\n",
        "        formatted_doc = f\"- {doc.page_content}\\n\\n**Metadata:**\\n{metadata_str}\"\n",
        "        formatted_docs.append(formatted_doc)\n",
        "    return \"\\n\\n\".join(formatted_docs)\n",
        "\n",
        "def stream_data(response):\n",
        "  for word in response.split(\" \"):\n",
        "        yield word + \" \"\n",
        "        time.sleep(0.05)\n",
        "\n",
        "if prompt := st.chat_input():\n",
        "    with st.chat_message(\"Human\"):\n",
        "        st.markdown(prompt)\n",
        "\n",
        "    # As usual, new messages are added to StreamlitChatMessageHistory when the Chain is called.\n",
        "    config = {\"configurable\": {\"session_id\": \"any\"}}\n",
        "    res = get_response(prompt, config)\n",
        "\n",
        "    with st.chat_message(\"AI\"):\n",
        "      st.write_stream(stream_data(res['answer']))\n",
        "      with st.popover(\"View Source\"):\n",
        "        st.markdown(\"### Source Alerts 📢\")\n",
        "        st.markdown(format_docs_with_metadata(res['context']))"
      ],
      "metadata": {
        "colab": {
          "base_uri": "https://localhost:8080/"
        },
        "id": "5njWilWRAyim",
        "outputId": "a7f8cdf2-779b-4a21-85b4-af253027f07b"
      },
      "execution_count": 39,
      "outputs": [
        {
          "output_type": "stream",
          "name": "stdout",
          "text": [
            "Overwriting app.py\n"
          ]
        }
      ]
    },
    {
      "cell_type": "code",
      "source": [
        "!streamlit run app.py & npx localtunnel --port 8501"
      ],
      "metadata": {
        "colab": {
          "base_uri": "https://localhost:8080/"
        },
        "id": "iH5kSfQ0cvwq",
        "outputId": "1d0a7e1b-d281-4680-bfd4-0f629e08cbcb"
      },
      "execution_count": 40,
      "outputs": [
        {
          "output_type": "stream",
          "name": "stdout",
          "text": [
            "\n",
            "Collecting usage statistics. To deactivate, set browser.gatherUsageStats to false.\n",
            "\u001b[0m\n",
            "\u001b[0m\n",
            "\u001b[34m\u001b[1m  You can now view your Streamlit app in your browser.\u001b[0m\n",
            "\u001b[0m\n",
            "\u001b[34m  Network URL: \u001b[0m\u001b[1mhttp://172.28.0.12:8501\u001b[0m\n",
            "\u001b[34m  External URL: \u001b[0m\u001b[1mhttp://35.245.110.99:8501\u001b[0m\n",
            "\u001b[0m\n",
            "\u001b[K\u001b[?25hnpx: installed 22 in 2.181s\n",
            "your url is: https://chatty-items-wave.loca.lt\n",
            "/usr/local/lib/python3.10/dist-packages/langchain/_api/module_import.py:87: LangChainDeprecationWarning: Importing GuardrailsOutputParser from langchain.output_parsers is deprecated. Please replace the import with the following:\n",
            "from langchain_community.output_parsers.rail_parser import GuardrailsOutputParser\n",
            "  warnings.warn(\n",
            "Parent run 8a72943d-01de-484b-903b-20b97401bb62 not found for run 14a94868-a0d0-4c03-ad04-2d584c81268e. Treating as a root run.\n",
            "Parent run b234dc8b-e80c-40a3-905e-90e841fcc523 not found for run 0ca79993-616c-4f15-b327-241f1de2c998. Treating as a root run.\n",
            "Parent run cf664a1b-4fdc-4992-ae47-7ca240a248d8 not found for run 947aa2ad-547d-4c26-b0df-6268ebc90ab0. Treating as a root run.\n",
            "Parent run a2c2c0dd-66cd-4408-a00c-8032e97e5ab1 not found for run c1add834-29b9-42b8-abec-f207ec56c563. Treating as a root run.\n",
            "^C\n"
          ]
        }
      ]
    }
  ]
}